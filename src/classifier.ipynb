{
  "nbformat": 4,
  "nbformat_minor": 0,
  "metadata": {
    "colab": {
      "name": "classifier.ipynb",
      "provenance": [],
      "collapsed_sections": []
    },
    "kernelspec": {
      "name": "python3",
      "display_name": "Python 3"
    },
    "accelerator": "GPU",
    "widgets": {
      "application/vnd.jupyter.widget-state+json": {
        "c968d3caa0ef46328179af510bc7fa73": {
          "model_module": "@jupyter-widgets/controls",
          "model_name": "HBoxModel",
          "state": {
            "_view_name": "HBoxView",
            "_dom_classes": [],
            "_model_name": "HBoxModel",
            "_view_module": "@jupyter-widgets/controls",
            "_model_module_version": "1.5.0",
            "_view_count": null,
            "_view_module_version": "1.5.0",
            "box_style": "",
            "layout": "IPY_MODEL_35a9c7f089244d4b98083a96d231acee",
            "_model_module": "@jupyter-widgets/controls",
            "children": [
              "IPY_MODEL_67034f1f49b64e559804501a037ca7fb",
              "IPY_MODEL_06a40e6d96d14e2187cea762fcdfc915"
            ]
          }
        },
        "35a9c7f089244d4b98083a96d231acee": {
          "model_module": "@jupyter-widgets/base",
          "model_name": "LayoutModel",
          "state": {
            "_view_name": "LayoutView",
            "grid_template_rows": null,
            "right": null,
            "justify_content": null,
            "_view_module": "@jupyter-widgets/base",
            "overflow": null,
            "_model_module_version": "1.2.0",
            "_view_count": null,
            "flex_flow": null,
            "width": null,
            "min_width": null,
            "border": null,
            "align_items": null,
            "bottom": null,
            "_model_module": "@jupyter-widgets/base",
            "top": null,
            "grid_column": null,
            "overflow_y": null,
            "overflow_x": null,
            "grid_auto_flow": null,
            "grid_area": null,
            "grid_template_columns": null,
            "flex": null,
            "_model_name": "LayoutModel",
            "justify_items": null,
            "grid_row": null,
            "max_height": null,
            "align_content": null,
            "visibility": null,
            "align_self": null,
            "height": null,
            "min_height": null,
            "padding": null,
            "grid_auto_rows": null,
            "grid_gap": null,
            "max_width": null,
            "order": null,
            "_view_module_version": "1.2.0",
            "grid_template_areas": null,
            "object_position": null,
            "object_fit": null,
            "grid_auto_columns": null,
            "margin": null,
            "display": null,
            "left": null
          }
        },
        "67034f1f49b64e559804501a037ca7fb": {
          "model_module": "@jupyter-widgets/controls",
          "model_name": "FloatProgressModel",
          "state": {
            "_view_name": "ProgressView",
            "style": "IPY_MODEL_b76dbf63a0df4111a976aecc3f51bcf6",
            "_dom_classes": [],
            "description": "100%",
            "_model_name": "FloatProgressModel",
            "bar_style": "success",
            "max": 102502400,
            "_view_module": "@jupyter-widgets/controls",
            "_model_module_version": "1.5.0",
            "value": 102502400,
            "_view_count": null,
            "_view_module_version": "1.5.0",
            "orientation": "horizontal",
            "min": 0,
            "description_tooltip": null,
            "_model_module": "@jupyter-widgets/controls",
            "layout": "IPY_MODEL_3381112f33354d499c2512fb3f598711"
          }
        },
        "06a40e6d96d14e2187cea762fcdfc915": {
          "model_module": "@jupyter-widgets/controls",
          "model_name": "HTMLModel",
          "state": {
            "_view_name": "HTMLView",
            "style": "IPY_MODEL_92e3a3a051fc4d479711823c35223a8d",
            "_dom_classes": [],
            "description": "",
            "_model_name": "HTMLModel",
            "placeholder": "​",
            "_view_module": "@jupyter-widgets/controls",
            "_model_module_version": "1.5.0",
            "value": " 97.8M/97.8M [00:00&lt;00:00, 150MB/s]",
            "_view_count": null,
            "_view_module_version": "1.5.0",
            "description_tooltip": null,
            "_model_module": "@jupyter-widgets/controls",
            "layout": "IPY_MODEL_e56b4cb21f0c435aa6c0a6461d8239b3"
          }
        },
        "b76dbf63a0df4111a976aecc3f51bcf6": {
          "model_module": "@jupyter-widgets/controls",
          "model_name": "ProgressStyleModel",
          "state": {
            "_view_name": "StyleView",
            "_model_name": "ProgressStyleModel",
            "description_width": "initial",
            "_view_module": "@jupyter-widgets/base",
            "_model_module_version": "1.5.0",
            "_view_count": null,
            "_view_module_version": "1.2.0",
            "bar_color": null,
            "_model_module": "@jupyter-widgets/controls"
          }
        },
        "3381112f33354d499c2512fb3f598711": {
          "model_module": "@jupyter-widgets/base",
          "model_name": "LayoutModel",
          "state": {
            "_view_name": "LayoutView",
            "grid_template_rows": null,
            "right": null,
            "justify_content": null,
            "_view_module": "@jupyter-widgets/base",
            "overflow": null,
            "_model_module_version": "1.2.0",
            "_view_count": null,
            "flex_flow": null,
            "width": null,
            "min_width": null,
            "border": null,
            "align_items": null,
            "bottom": null,
            "_model_module": "@jupyter-widgets/base",
            "top": null,
            "grid_column": null,
            "overflow_y": null,
            "overflow_x": null,
            "grid_auto_flow": null,
            "grid_area": null,
            "grid_template_columns": null,
            "flex": null,
            "_model_name": "LayoutModel",
            "justify_items": null,
            "grid_row": null,
            "max_height": null,
            "align_content": null,
            "visibility": null,
            "align_self": null,
            "height": null,
            "min_height": null,
            "padding": null,
            "grid_auto_rows": null,
            "grid_gap": null,
            "max_width": null,
            "order": null,
            "_view_module_version": "1.2.0",
            "grid_template_areas": null,
            "object_position": null,
            "object_fit": null,
            "grid_auto_columns": null,
            "margin": null,
            "display": null,
            "left": null
          }
        },
        "92e3a3a051fc4d479711823c35223a8d": {
          "model_module": "@jupyter-widgets/controls",
          "model_name": "DescriptionStyleModel",
          "state": {
            "_view_name": "StyleView",
            "_model_name": "DescriptionStyleModel",
            "description_width": "",
            "_view_module": "@jupyter-widgets/base",
            "_model_module_version": "1.5.0",
            "_view_count": null,
            "_view_module_version": "1.2.0",
            "_model_module": "@jupyter-widgets/controls"
          }
        },
        "e56b4cb21f0c435aa6c0a6461d8239b3": {
          "model_module": "@jupyter-widgets/base",
          "model_name": "LayoutModel",
          "state": {
            "_view_name": "LayoutView",
            "grid_template_rows": null,
            "right": null,
            "justify_content": null,
            "_view_module": "@jupyter-widgets/base",
            "overflow": null,
            "_model_module_version": "1.2.0",
            "_view_count": null,
            "flex_flow": null,
            "width": null,
            "min_width": null,
            "border": null,
            "align_items": null,
            "bottom": null,
            "_model_module": "@jupyter-widgets/base",
            "top": null,
            "grid_column": null,
            "overflow_y": null,
            "overflow_x": null,
            "grid_auto_flow": null,
            "grid_area": null,
            "grid_template_columns": null,
            "flex": null,
            "_model_name": "LayoutModel",
            "justify_items": null,
            "grid_row": null,
            "max_height": null,
            "align_content": null,
            "visibility": null,
            "align_self": null,
            "height": null,
            "min_height": null,
            "padding": null,
            "grid_auto_rows": null,
            "grid_gap": null,
            "max_width": null,
            "order": null,
            "_view_module_version": "1.2.0",
            "grid_template_areas": null,
            "object_position": null,
            "object_fit": null,
            "grid_auto_columns": null,
            "margin": null,
            "display": null,
            "left": null
          }
        }
      }
    }
  },
  "cells": [
    {
      "cell_type": "markdown",
      "metadata": {
        "id": "ZfYqhdZ7HLlA",
        "colab_type": "text"
      },
      "source": [
        "# Dog Breed Classifier"
      ]
    },
    {
      "cell_type": "markdown",
      "metadata": {
        "id": "Lz5SjkfKFMOJ",
        "colab_type": "text"
      },
      "source": [
        "## Accessing the Dog Breed Recognition dataset\n",
        "\n",
        "I have created a directory called \"dog-breed-recognition\". There, I have put the directory called \"dogs\" as refering to the dataset itself. For training, it is only used the samples contained at \"train\" directory."
      ]
    },
    {
      "cell_type": "code",
      "metadata": {
        "id": "dnNDLqAHzGhq",
        "colab_type": "code",
        "colab": {
          "base_uri": "https://localhost:8080/",
          "height": 34
        },
        "outputId": "6137969f-dfc4-469d-d747-012d5b2e906b"
      },
      "source": [
        "from google.colab import drive\n",
        "drive.mount('/content/drive/')\n",
        "root = '/content/drive/My Drive/Colab Notebooks/dog-breed-recognition'"
      ],
      "execution_count": 1,
      "outputs": [
        {
          "output_type": "stream",
          "text": [
            "Mounted at /content/drive/\n"
          ],
          "name": "stdout"
        }
      ]
    },
    {
      "cell_type": "markdown",
      "metadata": {
        "id": "xgMQ4TPfGtLE",
        "colab_type": "text"
      },
      "source": [
        "## Importing basic Python libraries"
      ]
    },
    {
      "cell_type": "code",
      "metadata": {
        "id": "hujbFfQaz09m",
        "colab_type": "code",
        "colab": {}
      },
      "source": [
        "import os\n",
        "import sys\n",
        "import tqdm\n",
        "import random\n",
        "import copy\n",
        "\n",
        "from PIL import Image\n",
        "import numpy as np"
      ],
      "execution_count": 2,
      "outputs": []
    },
    {
      "cell_type": "markdown",
      "metadata": {
        "id": "M87o5lewG0mi",
        "colab_type": "text"
      },
      "source": [
        "## Importing PyTorch library\n",
        "\n",
        "For GPU usage, go to \"Edit > Notebook Settings\" and make sure the hardware accelerator is set to GPU."
      ]
    },
    {
      "cell_type": "code",
      "metadata": {
        "id": "oafpKGan0MCn",
        "colab_type": "code",
        "colab": {}
      },
      "source": [
        "import torch\n",
        "import torchvision\n",
        "from torchvision import transforms\n",
        "\n",
        "# Creating a PyTorch device, so that inputs, outputs and models are apllied to\n",
        "#   the available GPU\n",
        "device = torch.device('cuda:0' if torch.cuda.is_available() else 'cpu')"
      ],
      "execution_count": 3,
      "outputs": []
    },
    {
      "cell_type": "markdown",
      "metadata": {
        "id": "bbhVW3TfHZtL",
        "colab_type": "text"
      },
      "source": [
        "## Splitting dataset into training, validation and test\n",
        "\n",
        "Considering a split ratio between these three categories, the instances of each class (dog breed) are randomly distributed.\n",
        "\n",
        "`dataset_labels[<PHASE>]` is a list of `(class_index, instance_index)` occurences, where:\n",
        "- `class_index` refers to the index of its dog breed;\n",
        "- `instance_index` refers to the index of the instance at the current dog breed list."
      ]
    },
    {
      "cell_type": "code",
      "metadata": {
        "id": "kEkLiXWr6ly5",
        "colab_type": "code",
        "colab": {}
      },
      "source": [
        "def get_dataset_split_labels(dataset_path, split_ratio):\n",
        "  '''\n",
        "  Calculates the split ratio of the training, validation and test sets.\n",
        "\n",
        "  Parameters\n",
        "  ----------\n",
        "  dataset_path : str\n",
        "    root of the dataset\n",
        "  split_ratio : list<float>\n",
        "    ratios for the dataset splitting\n",
        "\n",
        "  Returns\n",
        "  -------\n",
        "  dataset_labels : dict\n",
        "    list of instance labels for each set\n",
        "  '''\n",
        "\n",
        "  # Attribute `split_ratio` to each set individually\n",
        "  train_ratio, val_ratio, test_ratio = split_ratio\n",
        "\n",
        "  # `dataset_labels` encodes the list of instance labels for each set\n",
        "  dataset_labels = { 'train': [], 'val': [], 'test': [] }\n",
        "\n",
        "  # `dataset_path` divides the dataset in a list of directories, where each\n",
        "  #   directory represent a class (dog breed). When listing the presented\n",
        "  #   directories in `dataset_path`, `classes` will contain the list of dog\n",
        "  #   breeds presented in the dataset\n",
        "  classes = sorted(os.listdir(dataset_path))\n",
        "\n",
        "  # Iterate through each existing class (`curr_class`) and its index (`i_class`)\n",
        "  #   (the dataset splitting is done for each class individually)\n",
        "  for i_class, curr_class in enumerate(classes):\n",
        "\n",
        "    # `class_path` appends the root of the dataset (`dataset_path`) to the\n",
        "    #   current class' directory name\n",
        "    class_path = os.path.join(dataset_path, curr_class)\n",
        "\n",
        "    # `instances` list all images' filename of the current class directory\n",
        "    instances = sorted(os.listdir(class_path))\n",
        "\n",
        "    # `n_instances` computes the number of instances of the presented class\n",
        "    n_instances = len(instances)\n",
        "\n",
        "    # `labels` encodes a list of pairs of class index and instance index, which\n",
        "    #   will be used when loading the dataset later\n",
        "    labels = [(i_class, label) for label in list(range(n_instances))]\n",
        "\n",
        "    # randomize the labels occurences for dataset splitting afterwards\n",
        "    random.shuffle(labels)\n",
        "\n",
        "    # Calculate the number of instances of each split for the current class\n",
        "    train_l = int(n_instances * train_ratio)\n",
        "    val_l = int(n_instances * val_ratio)\n",
        "    test_l = int(n_instances * test_ratio)\n",
        "\n",
        "    # Access the current labels list (`labels`) according to the number of\n",
        "    #   instances of each split and apply to the list of labels of each split\n",
        "    #   (these three sets are disjoints)\n",
        "    curr_train_labels = labels[:train_l]\n",
        "    curr_val_labels = labels[train_l:train_l + val_l]\n",
        "    curr_test_labels = labels[train_l + val_l:train_l + val_l + test_l]\n",
        "    \n",
        "    # Apply the current labels lists to the final list containing all classses\n",
        "    dataset_labels['train'] += curr_train_labels\n",
        "    dataset_labels['val'] += curr_val_labels\n",
        "    dataset_labels['test'] += curr_test_labels\n",
        "\n",
        "  return dataset_labels"
      ],
      "execution_count": 4,
      "outputs": []
    },
    {
      "cell_type": "markdown",
      "metadata": {
        "id": "X6MIl578Jpx6",
        "colab_type": "text"
      },
      "source": [
        "## Creating the dataset loader\n",
        "\n",
        "For reading an entry from the dataset from an index:\n",
        "- `class_index` and `instance_index` are obtained from the previously generated labels;\n",
        "- The image path is obtained (`img_path`);\n",
        "- The image is read and converted to RGB channels (`img`), just in case the original image has a transparency channel (which will be not used) or the original image is in grayscale;\n",
        "- The network input (`x`) is generated by preprocessing the image. This preprocess depends of the current phase (training, validation or test), since the training phase deals with data augmentation;\n",
        "- The network output (`y`) is generated by creating a vector of `self.n_classes`-zeros, where `self.n_classes` is the number of classes (dog breeds). In `y`, it is attributed a value of 1 to its `class_index`'th position (one-hot encoding)."
      ]
    },
    {
      "cell_type": "code",
      "metadata": {
        "id": "Jlpio7fW96Tp",
        "colab_type": "code",
        "colab": {}
      },
      "source": [
        "class ImageDataset(torch.utils.data.Dataset):\n",
        "  \"\"\"\n",
        "  A class to read the dataset instances.\n",
        "\n",
        "  Attributes\n",
        "  ----------\n",
        "  labels : list<tuple<int,int>>\n",
        "    list of dataset instances that can be accessed\n",
        "  transform : torch.transforms\n",
        "    input preprocessing pipeline\n",
        "  classes : list<str>\n",
        "    existing classes (dog breeds) on the dataset\n",
        "  n_classes : int\n",
        "    number of existing classes (dog breeds) on the dataset\n",
        "  instances_path : list<list<str>>\n",
        "    Path to the instances of the dataset presented in `labels`\n",
        "\n",
        "  Data descriptors\n",
        "  ----------------\n",
        "  __getitem__\n",
        "    Gets the model's input and output from a dataset instance's index.\n",
        "\n",
        "  __len__\n",
        "    Gets the number of samples presented in the dataset.\n",
        "  \"\"\"\n",
        "\n",
        "  def __init__(self, dataset_path, labels, transform):\n",
        "    '''\n",
        "    Constructs all the attributes for the dataset object.\n",
        "\n",
        "    Parameters\n",
        "    ----------\n",
        "    dataset_path : str\n",
        "      root of the dataset\n",
        "    labels : list<tuple<int,int>>\n",
        "      list of dataset instances that can be accessed\n",
        "    transform : torch.transforms\n",
        "      input preprocessing pipeline\n",
        "    '''\n",
        "    \n",
        "    self.labels = labels\n",
        "    self.transform = transform\n",
        "\n",
        "    # `dataset_path` divides the dataset in a list of directories, where each\n",
        "    #   directory represent a class (dog breed). When listing the presented\n",
        "    #   directories in `dataset_path`, `self.classes` will contain the list of\n",
        "    #   dog breeds presented in the dataset\n",
        "    self.classes = sorted(os.listdir(dataset_path))\n",
        "    self.n_classes = len(self.classes)\n",
        "\n",
        "    # `classes_path` appends the root of the dataset (`dataset_path`) to the\n",
        "    #   directory name of all classes (`classes`)\n",
        "    classes_path = [os.path.join(dataset_path, c) for c in self.classes]\n",
        "    self.instances_path = [[os.path.join(class_path, instance)\n",
        "        for instance in sorted(os.listdir(class_path))]\n",
        "        for class_path in classes_path]\n",
        "\n",
        "  def __getitem__(self, index):\n",
        "    '''\n",
        "    Gets the model's input and output from a dataset instance's index.\n",
        "\n",
        "    Parameters\n",
        "    ----------\n",
        "    index : int\n",
        "      index of the instance to be accessed\n",
        "\n",
        "    Returns\n",
        "    -------\n",
        "    x : torch.Tensor\n",
        "      tensor refering to the preprocessed sample to be used as an model input\n",
        "    y : torch.Tensor\n",
        "      tensor refering to the class (dog breed) to be used as an model output\n",
        "    '''\n",
        "    \n",
        "    # Access the indexes of the class (`class_index`) and instance\n",
        "    #   (`instance_index`) present in the labels\n",
        "    class_index, instance_index = self.labels[index]\n",
        "\n",
        "    # `img_path` refers to the filepath of the image refering to (`class_index`,\n",
        "    #   `instance_index`)\n",
        "    img_path = self.instances_path[class_index][instance_index]\n",
        "\n",
        "    # Read image (`img`) and convert to red-green-blue channels (RGB), ensuring\n",
        "    #   the input will have 3 channels\n",
        "    img = Image.open(img_path).convert('RGB')\n",
        "\n",
        "    # `x` refers to the image when the preprocessing pipeline (`self.transform`)\n",
        "    #   is applied to the image (`img`)\n",
        "    x = self.transform(img)\n",
        "    \n",
        "    # `y` refers to the output tensor. It is in the one-hot encoding format,\n",
        "    #   containing `self.n_classes` zeroed-values.\n",
        "    y = torch.LongTensor(self.n_classes)\n",
        "    y.zero_()\n",
        "    \n",
        "    # In the `class_index`'th position, the value is set to 1, refering that\n",
        "    #   this sample belongs to the `class_index` class\n",
        "    y[class_index] = 1\n",
        "    \n",
        "    return x, y\n",
        "\n",
        "  def __len__(self):\n",
        "    '''\n",
        "    Gets the number of samples presented in the dataset.\n",
        "    \n",
        "    Returns\n",
        "    -------\n",
        "    l : int\n",
        "      the length of the dataset\n",
        "    '''\n",
        "    l = len(self.labels)\n",
        "\n",
        "    return l"
      ],
      "execution_count": 5,
      "outputs": []
    },
    {
      "cell_type": "markdown",
      "metadata": {
        "id": "bawU56OFNVF3",
        "colab_type": "text"
      },
      "source": [
        "## Creating the CNN model architecture\n",
        "\n",
        "The model shall have a fixed input size with 3 channels (corresponding to the red, green and blue channels). Also, the model shall output a vector with a size of `n_classes`, where each value corresponds to the confidence of the input image (a dog) of representing each class (dog breed).\n",
        "\n",
        "A ResNet50-based model was used; its last layer (which corresponds to a fully connecter layer) is replaced by another FCL whose output size correspond to `n_classes`."
      ]
    },
    {
      "cell_type": "code",
      "metadata": {
        "id": "meA8SfW118Gu",
        "colab_type": "code",
        "colab": {}
      },
      "source": [
        "def classifier_model(n_classes):\n",
        "  '''\n",
        "  Generates a new CNN ResNet50-based model.\n",
        "\n",
        "  Parameters\n",
        "  ----------\n",
        "  n_classes : int\n",
        "    number of classes (dog breeds) to be outputted\n",
        "\n",
        "  Returns\n",
        "  -------\n",
        "  x : torch.nn\n",
        "    the model\n",
        "  '''\n",
        "  \n",
        "  # First, `x` is a new ResNet50 CNN model, containing pre-trained weights from\n",
        "  #   ImageNet\n",
        "  x = torchvision.models.resnet50(pretrained=True)\n",
        "\n",
        "  # Change the final fully connected layer so that the output size matches the\n",
        "  #   desired `n_classes` size. Also, apply sigmoid function\n",
        "  x.fc = torch.nn.Sequential(\n",
        "      torch.nn.Linear(2048, n_classes),\n",
        "      torch.nn.Sigmoid())\n",
        "\n",
        "  return x"
      ],
      "execution_count": 6,
      "outputs": []
    },
    {
      "cell_type": "markdown",
      "metadata": {
        "id": "ib4SxYSzQ3AY",
        "colab_type": "text"
      },
      "source": [
        "## Model training and validation algorithm"
      ]
    },
    {
      "cell_type": "code",
      "metadata": {
        "id": "5qU6x0pfYCZa",
        "colab_type": "code",
        "colab": {}
      },
      "source": [
        "def train(model, criterion, optimizer, scheduler, n_epochs):\n",
        "  '''\n",
        "  Trains the model.\n",
        "  \n",
        "  Parameters\n",
        "  ----------\n",
        "  model : torch.nn\n",
        "    the model to be trained\n",
        "  criterion : torch.nn\n",
        "    the model's loss metric\n",
        "  optimizer : torch.optim\n",
        "    pptimization algorithm\n",
        "  scheduler : torch.optim\n",
        "    updater of model's training parameters\n",
        "  n_epochs : int\n",
        "    number of iterations of the training\n",
        "\n",
        "  Returns\n",
        "  -------\n",
        "  model : torch.nn\n",
        "    the trained model\n",
        "  best_acc : float\n",
        "    the accuracy of the trained model\n",
        "  '''\n",
        "\n",
        "  # Keep track of the best achieved accuracy and the corresponding model weights\n",
        "  best_weights = copy.deepcopy(model.state_dict())\n",
        "  best_acc = 0.0\n",
        "\n",
        "  # The model iterates a number of times (`n_epochs`)\n",
        "  for epoch in range(n_epochs):\n",
        "\n",
        "    # Each epoch includes the model weights tuning phase (indicated by the\n",
        "    #   `train` flag) and the model validation (indicated by the `val` flag)\n",
        "    for phase in ['train', 'val']:\n",
        "\n",
        "      # Change the model mode (training or validation)\n",
        "      if phase == 'train':\n",
        "        model.train()\n",
        "      else:\n",
        "        model.eval()\n",
        "\n",
        "      # `epoch_loss` computes the loss sum (according to the used `criterion`)\n",
        "      #   of the model iteratively as batches are read\n",
        "      epoch_loss = 0.0\n",
        "\n",
        "      # `epoch_acc` computes the accuracy of the model when predicting the class\n",
        "      #   of the input iteratively as batches are read \n",
        "      epoch_acc = 0.0\n",
        "\n",
        "      # `n_seen_samples` computes the number of input-output samples that were\n",
        "      #   already read in the current epoch-phase\n",
        "      n_seen_samples = 0\n",
        "\n",
        "      # Using tqdm to iteratively keep track on the number of iterated batches\n",
        "      #   on the console\n",
        "      dataloader = tqdm.tqdm(dataloaders[phase], total=len(dataloaders[phase]),\n",
        "          position=0, leave=True)\n",
        "      \n",
        "      # The dataloader refering to the current phase is iterated, in order to\n",
        "      #   access all pairs of input-output, denoted by `(x, y_gt)`\n",
        "      for x, y_gt in dataloader:\n",
        "\n",
        "        # `curr_batch_size` computes the number of samples in the current batch\n",
        "        #   (this may vary when the current batch is the last one)\n",
        "        curr_batch_size = x.shape[0]\n",
        "\n",
        "        # Increment the number of seen samples on the current epoch-phase\n",
        "        n_seen_samples += curr_batch_size\n",
        "\n",
        "        # Reset current gradients\n",
        "        optimizer.zero_grad()\n",
        "\n",
        "        # Pass the input and ouput tensors to the used device (GPU or CPU)\n",
        "        x = x.to(device)\n",
        "        y_gt = y_gt.to(device)\n",
        "        \n",
        "        # Calculate the prediction (`y_pred`) of the current model according to\n",
        "        #   the input `x`\n",
        "        y_pred = model(x)\n",
        "\n",
        "        # `label_gt` denotes the class indexes of each instance from the batch\n",
        "        #   of ground-truths `y_gt` by getting the index of its max value\n",
        "        _, label_gt = torch.max(y_gt, 1)\n",
        "\n",
        "        # `label_pred` denotes the class indexes of each instance from the batch\n",
        "        #   of predictions `y_pred` by getting the index of its max value\n",
        "        _, label_pred = torch.max(y_pred, 1)\n",
        "\n",
        "        # `loss` encodes the difference between the predictions and the\n",
        "        #   ground-truth of the current batch, according to the used `criterion`\n",
        "        loss = criterion(y_pred, label_gt)\n",
        "\n",
        "        # Update the model weights, if the current phase is `train` (if the \n",
        "        #   current phase is `val`, the model weights are not changed)\n",
        "        if phase == 'train':\n",
        "          loss.backward()\n",
        "          optimizer.step()\n",
        "\n",
        "        # Add the current batch's loss to `epoch_loss`\n",
        "        epoch_loss += loss.item() * curr_batch_size\n",
        "        \n",
        "        # Add the current batch's correct predictions to `epoch_acc`\n",
        "        epoch_acc += torch.sum(label_pred == label_gt).item()\n",
        "\n",
        "        # Calculate the current epoch-phase's average loss and correct\n",
        "        #   predictions rate (`curr_loss` and `curr_acc`)\n",
        "        curr_loss = epoch_loss / n_seen_samples\n",
        "        curr_acc = epoch_acc / n_seen_samples\n",
        "\n",
        "        # Iteratively print on console the number of iterated batches, as well\n",
        "        #   as the current loss and accuracy\n",
        "        dataloader.set_postfix(Epoch='%s/%s' % (epoch+1, n_epochs),\n",
        "            Loss=curr_loss, Acc=curr_acc, refresh=True)\n",
        "\n",
        "      # Update the learning rate in the `train` phase as epochs goes by\n",
        "      if phase == 'train':\n",
        "        scheduler.step()\n",
        "      \n",
        "      # Calculate the final loss and accuracy of the current epoch\n",
        "      epoch_loss /= len(datasets[phase])\n",
        "      epoch_acc /= len(datasets[phase])\n",
        "\n",
        "      # Save new weights if the best accuracy is achieved in the `val` phase\n",
        "      if phase == 'val' and epoch_acc > best_acc:\n",
        "        best_acc = epoch_acc\n",
        "        best_weights = copy.deepcopy(model.state_dict())\n",
        "\n",
        "  # Apply best weights to the model\n",
        "  model.load_state_dict(best_weights)\n",
        "\n",
        "  return model, best_acc"
      ],
      "execution_count": 7,
      "outputs": []
    },
    {
      "cell_type": "markdown",
      "metadata": {
        "id": "4Nt9Da9vTZej",
        "colab_type": "text"
      },
      "source": [
        "## Model testing algorithm"
      ]
    },
    {
      "cell_type": "code",
      "metadata": {
        "id": "tJvetcNIAC8T",
        "colab_type": "code",
        "colab": {}
      },
      "source": [
        "def test(model):\n",
        "  '''\n",
        "  Tests the model on an unseen set of samples.\n",
        "\n",
        "  Parameters\n",
        "  ----------\n",
        "  model : torch.nn\n",
        "    the model to be evaluated\n",
        "\n",
        "  Returns\n",
        "  -------\n",
        "  acc : float\n",
        "    the final accuracy of the model\n",
        "  '''\n",
        "\n",
        "  # Set the model mode to `eval`, as the model weights are not updated\n",
        "  model.eval()\n",
        "\n",
        "  # Keep track of the current accuracy (`acc`)\n",
        "  acc = 0.0\n",
        "\n",
        "  # `n_seen_samples` computes the number of input-output samples that were\n",
        "  #   already read\n",
        "  n_seen_samples = 0\n",
        "\n",
        "  # Using tqdm to iteratively keep track on the number of iterated batches on\n",
        "  #   the console\n",
        "  dataloader = tqdm.tqdm(dataloaders['test'], total=len(dataloaders['test']),\n",
        "      position=0, leave=True)\n",
        "  \n",
        "  # The dataloader refering to the current phase is iterated, in order to\n",
        "  #   access all pairs of input-output, denoted by `(x, y_gt)`\n",
        "\n",
        "  for x, y_gt in dataloader:\n",
        "  \n",
        "    # `curr_batch_size` computes the number of samples in the current batch\n",
        "    #   (this may vary when the current batch is the last one)\n",
        "    curr_batch_size = x.shape[0]\n",
        "\n",
        "    # Increment the number of seen samples\n",
        "    n_seen_samples += curr_batch_size\n",
        "\n",
        "\n",
        "    # Pass the input and ouput tensors to the used device (GPU or CPU)\n",
        "    x = x.to(device)\n",
        "    y_gt = y_gt.to(device)\n",
        "\n",
        "    # Calculate the prediction (`y_pred`) of the current model according to the\n",
        "    #   input `x`\n",
        "    y_pred = model(x)\n",
        "\n",
        "\n",
        "    # `label_gt` denotes the class indexes of each instance from the batch of\n",
        "    #   ground-truths `y_gt` by getting the index of its max value\n",
        "    _, label_gt = torch.max(y_gt, 1)\n",
        "    \n",
        "    # `label_pred` denotes the class indexes of each instance from the batch of\n",
        "    #   predictions `y_pred` by getting the index of its max value\n",
        "    _, label_pred = torch.max(y_pred, 1)\n",
        "\n",
        "    # Add the current batch's correct predictions to `epoch_acc`\n",
        "    acc += torch.sum(label_pred == label_gt).item()\n",
        "\n",
        "    # Calculate the current correct predictions rate (`curr_acc`)\n",
        "    curr_acc = acc / n_seen_samples\n",
        "    \n",
        "    # Iteratively print on console the number of iterated batches, as well as\n",
        "    #   the current accuracy\n",
        "    dataloader.set_postfix(Acc=curr_acc, refresh=True)\n",
        "\n",
        "  # Calculate the final accuracy of the test\n",
        "  acc /= len(datasets['test'])\n",
        "\n",
        "  return acc"
      ],
      "execution_count": 8,
      "outputs": []
    },
    {
      "cell_type": "markdown",
      "metadata": {
        "id": "5wZix-XITdZC",
        "colab_type": "text"
      },
      "source": [
        "## Sets of preprocessing operations\n",
        "\n",
        "Each set refers to each phase (training, validation and test)\n",
        "\n",
        "- For training phase, samples are randomly cropped to a fixed (224,224) size, randomly flipped horizontally, applied to a torch.Tensor and normalized according to a set of RGB mean and standard deviation values;\n",
        "\n",
        "- For validation phase, samples are centrally cropped to a fixed (224,224) size, applied to a torch.Tensor and normalized according to a set of RGB mean and standard deviation values;\n",
        "\n",
        "- For testing phase, samples are resized to a fixed (256,256) size, centrally cropped to a fixed (224,224) size, applied to a torch.Tensor and normalized according to a set of RGB mean and standard deviation values."
      ]
    },
    {
      "cell_type": "code",
      "metadata": {
        "id": "aB2xeAVaRys4",
        "colab_type": "code",
        "colab": {}
      },
      "source": [
        "dataset_transforms = {\n",
        "    'train': transforms.Compose([\n",
        "        transforms.RandomResizedCrop(224),\n",
        "        transforms.RandomHorizontalFlip(),\n",
        "        transforms.ToTensor(),\n",
        "        transforms.Normalize([0.485, 0.456, 0.406], [0.229, 0.224, 0.225])]),\n",
        "    'val': transforms.Compose([\n",
        "        transforms.CenterCrop(224),\n",
        "        transforms.ToTensor(),\n",
        "        transforms.Normalize([0.485, 0.456, 0.406], [0.229, 0.224, 0.225])]),\n",
        "    'test': transforms.Compose([\n",
        "        transforms.Resize(256),\n",
        "        transforms.CenterCrop(224),\n",
        "        transforms.ToTensor(),\n",
        "        transforms.Normalize([0.485, 0.456, 0.406], [0.229, 0.224, 0.225])]) }"
      ],
      "execution_count": 9,
      "outputs": []
    },
    {
      "cell_type": "markdown",
      "metadata": {
        "id": "YOGPOgKKB_pB",
        "colab_type": "text"
      },
      "source": [
        "## Setting training parameters"
      ]
    },
    {
      "cell_type": "code",
      "metadata": {
        "id": "HvqCWrHt3NsW",
        "colab_type": "code",
        "colab": {
          "base_uri": "https://localhost:8080/",
          "height": 84,
          "referenced_widgets": [
            "c968d3caa0ef46328179af510bc7fa73",
            "35a9c7f089244d4b98083a96d231acee",
            "67034f1f49b64e559804501a037ca7fb",
            "06a40e6d96d14e2187cea762fcdfc915",
            "b76dbf63a0df4111a976aecc3f51bcf6",
            "3381112f33354d499c2512fb3f598711",
            "92e3a3a051fc4d479711823c35223a8d",
            "e56b4cb21f0c435aa6c0a6461d8239b3"
          ]
        },
        "outputId": "2e388834-015f-46a7-d024-46f312f22689"
      },
      "source": [
        "# Path containing the dog breed training dataset\n",
        "dataset_path = os.path.join(root, 'dogs', 'train')\n",
        "\n",
        "# Split ratio of the training, validation and test portions (these portions sums\n",
        "#   up to 1.0)\n",
        "split_ratio = [0.7, 0.15, 0.15]\n",
        "\n",
        "# Get dataset labels, splitted for each phase\n",
        "dataset_labels = get_dataset_split_labels(dataset_path, split_ratio)\n",
        "\n",
        "# Creating PyTorch dataset instance for each phase (training, validation and\n",
        "#   test)\n",
        "datasets = {\n",
        "    'train': ImageDataset(dataset_path, dataset_labels['train'],\n",
        "        dataset_transforms['train']),\n",
        "    'val': ImageDataset(dataset_path, dataset_labels['val'],\n",
        "        dataset_transforms['val']),\n",
        "    'test': ImageDataset(dataset_path, dataset_labels['test'],\n",
        "        dataset_transforms['test']) }\n",
        "\n",
        "# Dog breeds in the training dataset\n",
        "classes = datasets['train'].classes\n",
        "\n",
        "# Number of dog breeds in the training dataset\n",
        "n_classes = datasets['train'].n_classes\n",
        "\n",
        "# Number of epochs for the model to be trained\n",
        "n_epochs = 10\n",
        "\n",
        "# Batch size for each phase\n",
        "batch_size = 32\n",
        "\n",
        "# Number of workers for multiprocessing the data loading\n",
        "n_workers = 8\n",
        "\n",
        "# Instantiate CNN classifier model\n",
        "model = classifier_model(n_classes)\n",
        "model = torch.jit.script(model).to(device)\n",
        "\n",
        "# Use Cross Entropy loss\n",
        "criterion = torch.nn.CrossEntropyLoss()\n",
        "\n",
        "# Use SGD as the optimizer\n",
        "optimizer = torch.optim.SGD(model.parameters(), lr=0.001, momentum=0.9)\n",
        "\n",
        "# Use a learning rate scheduler\n",
        "scheduler = torch.optim.lr_scheduler.StepLR(optimizer, step_size=7, gamma=0.1)\n",
        "\n",
        "# Create data loaders for the training, validation and testing steps\n",
        "#   (Also shuffling samples for unbiased performance)\n",
        "dataloaders = {\n",
        "    'train': torch.utils.data.DataLoader(datasets['train'],\n",
        "        batch_size=batch_size, num_workers=n_workers, shuffle=True),\n",
        "    'val': torch.utils.data.DataLoader(datasets['val'], batch_size=batch_size,\n",
        "        num_workers=n_workers, shuffle=True),\n",
        "    'test': torch.utils.data.DataLoader(datasets['test'], batch_size=batch_size,\n",
        "        num_workers=n_workers, shuffle=True) }\n",
        "\n",
        "# Path where to save the trained model\n",
        "trained_model_ckpt_path = os.path.join(root, 'models', 'classifier.pth')"
      ],
      "execution_count": 10,
      "outputs": [
        {
          "output_type": "stream",
          "text": [
            "Downloading: \"https://download.pytorch.org/models/resnet50-19c8e357.pth\" to /root/.cache/torch/hub/checkpoints/resnet50-19c8e357.pth\n"
          ],
          "name": "stderr"
        },
        {
          "output_type": "display_data",
          "data": {
            "application/vnd.jupyter.widget-view+json": {
              "model_id": "c968d3caa0ef46328179af510bc7fa73",
              "version_minor": 0,
              "version_major": 2
            },
            "text/plain": [
              "HBox(children=(FloatProgress(value=0.0, max=102502400.0), HTML(value='')))"
            ]
          },
          "metadata": {
            "tags": []
          }
        },
        {
          "output_type": "stream",
          "text": [
            "\n"
          ],
          "name": "stdout"
        }
      ]
    },
    {
      "cell_type": "markdown",
      "metadata": {
        "id": "P5NwzuXrCDwG",
        "colab_type": "text"
      },
      "source": [
        "## Executing training"
      ]
    },
    {
      "cell_type": "code",
      "metadata": {
        "id": "BuKmUol4gaHl",
        "colab_type": "code",
        "colab": {
          "base_uri": "https://localhost:8080/",
          "height": 364
        },
        "outputId": "6bc1aa5b-9b5e-4209-ec6e-3078c9f5d2cd"
      },
      "source": [
        "# Generate a trained model (`trained_model`), as well as its accuracy\n",
        "#   (`val_acc`)\n",
        "trained_model, val_acc = train(model, criterion, optimizer, scheduler, n_epochs)\n",
        "\n",
        "# Save model to `trained_model_ckpt_path`\n",
        "torch.save({\n",
        "    'state_dict': trained_model.state_dict(),\n",
        "    'acc': val_acc,\n",
        "    'classes': classes,\n",
        "    'n_classes': n_classes }, trained_model_ckpt_path)"
      ],
      "execution_count": null,
      "outputs": [
        {
          "output_type": "stream",
          "text": [
            "100%|██████████| 379/379 [02:10<00:00,  2.91it/s, Acc=0.132, Epoch=1/10, Loss=4.5]\n",
            "100%|██████████| 80/80 [00:14<00:00,  5.51it/s, Acc=0.469, Epoch=1/10, Loss=4.32]\n",
            "100%|██████████| 379/379 [02:05<00:00,  3.02it/s, Acc=0.496, Epoch=2/10, Loss=4.27]\n",
            "100%|██████████| 80/80 [00:14<00:00,  5.58it/s, Acc=0.709, Epoch=2/10, Loss=4.09]\n",
            "100%|██████████| 379/379 [02:06<00:00,  2.99it/s, Acc=0.634, Epoch=3/10, Loss=4.11]\n",
            "100%|██████████| 80/80 [00:14<00:00,  5.54it/s, Acc=0.75, Epoch=3/10, Loss=3.97]\n",
            "100%|██████████| 379/379 [02:07<00:00,  2.98it/s, Acc=0.671, Epoch=4/10, Loss=4.02]\n",
            "100%|██████████| 80/80 [00:14<00:00,  5.62it/s, Acc=0.756, Epoch=4/10, Loss=3.9]\n",
            "100%|██████████| 379/379 [02:06<00:00,  2.99it/s, Acc=0.681, Epoch=5/10, Loss=3.97]\n",
            "100%|██████████| 80/80 [00:14<00:00,  5.54it/s, Acc=0.772, Epoch=5/10, Loss=3.87]\n",
            "100%|██████████| 379/379 [02:06<00:00,  3.00it/s, Acc=0.69, Epoch=6/10, Loss=3.93]\n",
            "100%|██████████| 80/80 [00:14<00:00,  5.51it/s, Acc=0.777, Epoch=6/10, Loss=3.84]\n",
            "100%|██████████| 379/379 [02:06<00:00,  2.99it/s, Acc=0.696, Epoch=7/10, Loss=3.91]\n",
            "100%|██████████| 80/80 [00:14<00:00,  5.60it/s, Acc=0.776, Epoch=7/10, Loss=3.82]\n",
            "100%|██████████| 379/379 [02:06<00:00,  3.00it/s, Acc=0.702, Epoch=8/10, Loss=3.9]\n",
            "100%|██████████| 80/80 [00:14<00:00,  5.70it/s, Acc=0.779, Epoch=8/10, Loss=3.82]\n",
            "100%|██████████| 379/379 [02:06<00:00,  2.99it/s, Acc=0.705, Epoch=9/10, Loss=3.89]\n",
            "100%|██████████| 80/80 [00:14<00:00,  5.60it/s, Acc=0.791, Epoch=9/10, Loss=3.82]\n",
            "100%|██████████| 379/379 [02:06<00:00,  3.00it/s, Acc=0.702, Epoch=10/10, Loss=3.89]\n",
            "100%|██████████| 80/80 [00:14<00:00,  5.71it/s, Acc=0.784, Epoch=10/10, Loss=3.82]\n"
          ],
          "name": "stderr"
        }
      ]
    },
    {
      "cell_type": "markdown",
      "metadata": {
        "id": "4eepeRzOCRCF",
        "colab_type": "text"
      },
      "source": [
        "## Executing testing"
      ]
    },
    {
      "cell_type": "code",
      "metadata": {
        "id": "W9EExOhO6N0m",
        "colab_type": "code",
        "colab": {
          "base_uri": "https://localhost:8080/",
          "height": 34
        },
        "outputId": "95c72fb3-f50e-43e2-843f-b76fabbcd964"
      },
      "source": [
        "# Instantiating the architecture of the model\n",
        "trained_model = classifier_model(n_classes)\n",
        "\n",
        "# Load weights from the trained model\n",
        "trained_model.load_state_dict(torch.load(trained_model_ckpt_path)['state_dict'])\n",
        "trained_model.eval()\n",
        "trained_model = torch.jit.script(trained_model).to(device)\n",
        "\n",
        "# Perform testing and getting test accuracy (`test_acc`)\n",
        "test_acc = test(trained_model)"
      ],
      "execution_count": null,
      "outputs": [
        {
          "output_type": "stream",
          "text": [
            "100%|██████████| 80/80 [00:17<00:00,  4.50it/s, Acc=0.849]\n"
          ],
          "name": "stderr"
        }
      ]
    }
  ]
}