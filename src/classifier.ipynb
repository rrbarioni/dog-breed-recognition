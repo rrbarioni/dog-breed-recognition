{
  "nbformat": 4,
  "nbformat_minor": 0,
  "metadata": {
    "colab": {
      "name": "classifier.ipynb",
      "provenance": [],
      "collapsed_sections": []
    },
    "kernelspec": {
      "name": "python3",
      "display_name": "Python 3"
    },
    "accelerator": "GPU",
    "widgets": {
      "application/vnd.jupyter.widget-state+json": {
        "4ccb3962a3e241cca53aa8a227fc9437": {
          "model_module": "@jupyter-widgets/controls",
          "model_name": "HBoxModel",
          "state": {
            "_view_name": "HBoxView",
            "_dom_classes": [],
            "_model_name": "HBoxModel",
            "_view_module": "@jupyter-widgets/controls",
            "_model_module_version": "1.5.0",
            "_view_count": null,
            "_view_module_version": "1.5.0",
            "box_style": "",
            "layout": "IPY_MODEL_955f46dc28c345fb8cd13a366a6fd285",
            "_model_module": "@jupyter-widgets/controls",
            "children": [
              "IPY_MODEL_cc9ea230c5504b60a7b6a16843d2cfde",
              "IPY_MODEL_1901d9b598144b56ae03250960b18eaf"
            ]
          }
        },
        "955f46dc28c345fb8cd13a366a6fd285": {
          "model_module": "@jupyter-widgets/base",
          "model_name": "LayoutModel",
          "state": {
            "_view_name": "LayoutView",
            "grid_template_rows": null,
            "right": null,
            "justify_content": null,
            "_view_module": "@jupyter-widgets/base",
            "overflow": null,
            "_model_module_version": "1.2.0",
            "_view_count": null,
            "flex_flow": null,
            "width": null,
            "min_width": null,
            "border": null,
            "align_items": null,
            "bottom": null,
            "_model_module": "@jupyter-widgets/base",
            "top": null,
            "grid_column": null,
            "overflow_y": null,
            "overflow_x": null,
            "grid_auto_flow": null,
            "grid_area": null,
            "grid_template_columns": null,
            "flex": null,
            "_model_name": "LayoutModel",
            "justify_items": null,
            "grid_row": null,
            "max_height": null,
            "align_content": null,
            "visibility": null,
            "align_self": null,
            "height": null,
            "min_height": null,
            "padding": null,
            "grid_auto_rows": null,
            "grid_gap": null,
            "max_width": null,
            "order": null,
            "_view_module_version": "1.2.0",
            "grid_template_areas": null,
            "object_position": null,
            "object_fit": null,
            "grid_auto_columns": null,
            "margin": null,
            "display": null,
            "left": null
          }
        },
        "cc9ea230c5504b60a7b6a16843d2cfde": {
          "model_module": "@jupyter-widgets/controls",
          "model_name": "FloatProgressModel",
          "state": {
            "_view_name": "ProgressView",
            "style": "IPY_MODEL_cafc514ec6784da68099e495b1726394",
            "_dom_classes": [],
            "description": "100%",
            "_model_name": "FloatProgressModel",
            "bar_style": "success",
            "max": 14212972,
            "_view_module": "@jupyter-widgets/controls",
            "_model_module_version": "1.5.0",
            "value": 14212972,
            "_view_count": null,
            "_view_module_version": "1.5.0",
            "orientation": "horizontal",
            "min": 0,
            "description_tooltip": null,
            "_model_module": "@jupyter-widgets/controls",
            "layout": "IPY_MODEL_755251b640254835a5dabcf5b6ed1637"
          }
        },
        "1901d9b598144b56ae03250960b18eaf": {
          "model_module": "@jupyter-widgets/controls",
          "model_name": "HTMLModel",
          "state": {
            "_view_name": "HTMLView",
            "style": "IPY_MODEL_79aeb3d3dd7c465c87ccfdbd3894fbbd",
            "_dom_classes": [],
            "description": "",
            "_model_name": "HTMLModel",
            "placeholder": "​",
            "_view_module": "@jupyter-widgets/controls",
            "_model_module_version": "1.5.0",
            "value": " 13.6M/13.6M [00:00&lt;00:00, 28.4MB/s]",
            "_view_count": null,
            "_view_module_version": "1.5.0",
            "description_tooltip": null,
            "_model_module": "@jupyter-widgets/controls",
            "layout": "IPY_MODEL_b4b93e68ba66419b8c32edb6aed3aba2"
          }
        },
        "cafc514ec6784da68099e495b1726394": {
          "model_module": "@jupyter-widgets/controls",
          "model_name": "ProgressStyleModel",
          "state": {
            "_view_name": "StyleView",
            "_model_name": "ProgressStyleModel",
            "description_width": "initial",
            "_view_module": "@jupyter-widgets/base",
            "_model_module_version": "1.5.0",
            "_view_count": null,
            "_view_module_version": "1.2.0",
            "bar_color": null,
            "_model_module": "@jupyter-widgets/controls"
          }
        },
        "755251b640254835a5dabcf5b6ed1637": {
          "model_module": "@jupyter-widgets/base",
          "model_name": "LayoutModel",
          "state": {
            "_view_name": "LayoutView",
            "grid_template_rows": null,
            "right": null,
            "justify_content": null,
            "_view_module": "@jupyter-widgets/base",
            "overflow": null,
            "_model_module_version": "1.2.0",
            "_view_count": null,
            "flex_flow": null,
            "width": null,
            "min_width": null,
            "border": null,
            "align_items": null,
            "bottom": null,
            "_model_module": "@jupyter-widgets/base",
            "top": null,
            "grid_column": null,
            "overflow_y": null,
            "overflow_x": null,
            "grid_auto_flow": null,
            "grid_area": null,
            "grid_template_columns": null,
            "flex": null,
            "_model_name": "LayoutModel",
            "justify_items": null,
            "grid_row": null,
            "max_height": null,
            "align_content": null,
            "visibility": null,
            "align_self": null,
            "height": null,
            "min_height": null,
            "padding": null,
            "grid_auto_rows": null,
            "grid_gap": null,
            "max_width": null,
            "order": null,
            "_view_module_version": "1.2.0",
            "grid_template_areas": null,
            "object_position": null,
            "object_fit": null,
            "grid_auto_columns": null,
            "margin": null,
            "display": null,
            "left": null
          }
        },
        "79aeb3d3dd7c465c87ccfdbd3894fbbd": {
          "model_module": "@jupyter-widgets/controls",
          "model_name": "DescriptionStyleModel",
          "state": {
            "_view_name": "StyleView",
            "_model_name": "DescriptionStyleModel",
            "description_width": "",
            "_view_module": "@jupyter-widgets/base",
            "_model_module_version": "1.5.0",
            "_view_count": null,
            "_view_module_version": "1.2.0",
            "_model_module": "@jupyter-widgets/controls"
          }
        },
        "b4b93e68ba66419b8c32edb6aed3aba2": {
          "model_module": "@jupyter-widgets/base",
          "model_name": "LayoutModel",
          "state": {
            "_view_name": "LayoutView",
            "grid_template_rows": null,
            "right": null,
            "justify_content": null,
            "_view_module": "@jupyter-widgets/base",
            "overflow": null,
            "_model_module_version": "1.2.0",
            "_view_count": null,
            "flex_flow": null,
            "width": null,
            "min_width": null,
            "border": null,
            "align_items": null,
            "bottom": null,
            "_model_module": "@jupyter-widgets/base",
            "top": null,
            "grid_column": null,
            "overflow_y": null,
            "overflow_x": null,
            "grid_auto_flow": null,
            "grid_area": null,
            "grid_template_columns": null,
            "flex": null,
            "_model_name": "LayoutModel",
            "justify_items": null,
            "grid_row": null,
            "max_height": null,
            "align_content": null,
            "visibility": null,
            "align_self": null,
            "height": null,
            "min_height": null,
            "padding": null,
            "grid_auto_rows": null,
            "grid_gap": null,
            "max_width": null,
            "order": null,
            "_view_module_version": "1.2.0",
            "grid_template_areas": null,
            "object_position": null,
            "object_fit": null,
            "grid_auto_columns": null,
            "margin": null,
            "display": null,
            "left": null
          }
        }
      }
    }
  },
  "cells": [
    {
      "cell_type": "markdown",
      "metadata": {
        "id": "ZfYqhdZ7HLlA",
        "colab_type": "text"
      },
      "source": [
        "# Dog Breed Classifier"
      ]
    },
    {
      "cell_type": "markdown",
      "metadata": {
        "id": "Lz5SjkfKFMOJ",
        "colab_type": "text"
      },
      "source": [
        "## Accessing the Dog Breed Recognition dataset\n",
        "\n",
        "I have created a directory called \"dog-breed-recognition\". There, I have put the directory called \"dogs\" as refering to the dataset itself. For training, it is only used the samples contained at \"train\" directory."
      ]
    },
    {
      "cell_type": "code",
      "metadata": {
        "id": "dnNDLqAHzGhq",
        "colab_type": "code",
        "colab": {
          "base_uri": "https://localhost:8080/",
          "height": 34
        },
        "outputId": "b6474015-758f-46dd-892b-776cd36d3c9e"
      },
      "source": [
        "from google.colab import drive\n",
        "drive.mount('/content/drive/')\n",
        "root = '/content/drive/My Drive/Colab Notebooks/dog-breed-recognition'"
      ],
      "execution_count": null,
      "outputs": [
        {
          "output_type": "stream",
          "text": [
            "Drive already mounted at /content/drive/; to attempt to forcibly remount, call drive.mount(\"/content/drive/\", force_remount=True).\n"
          ],
          "name": "stdout"
        }
      ]
    },
    {
      "cell_type": "markdown",
      "metadata": {
        "id": "xgMQ4TPfGtLE",
        "colab_type": "text"
      },
      "source": [
        "## Importing basic Python libraries"
      ]
    },
    {
      "cell_type": "code",
      "metadata": {
        "id": "hujbFfQaz09m",
        "colab_type": "code",
        "colab": {}
      },
      "source": [
        "import os\n",
        "import sys\n",
        "import tqdm\n",
        "import random\n",
        "import copy\n",
        "\n",
        "from PIL import Image\n",
        "import numpy as np\n",
        "import cv2\n",
        "import matplotlib.pyplot as plt"
      ],
      "execution_count": null,
      "outputs": []
    },
    {
      "cell_type": "markdown",
      "metadata": {
        "id": "M87o5lewG0mi",
        "colab_type": "text"
      },
      "source": [
        "## Importing PyTorch library\n",
        "\n",
        "For GPU usage, go to \"Edit > Notebook Settings\" and make sure the hardware accelerator is set to GPU."
      ]
    },
    {
      "cell_type": "code",
      "metadata": {
        "id": "oafpKGan0MCn",
        "colab_type": "code",
        "colab": {
          "base_uri": "https://localhost:8080/",
          "height": 34
        },
        "outputId": "2a6e597e-5cbe-4d03-c119-3db1bc248d79"
      },
      "source": [
        "import torch\n",
        "import torchvision\n",
        "from torchvision import transforms\n",
        "\n",
        "# Remember to activate GPU\n",
        "device = torch.device('cuda:0' if torch.cuda.is_available() else 'cpu')\n",
        "\n",
        "if torch.cuda.is_available():\n",
        "  torch.cuda.get_device_name(0)"
      ],
      "execution_count": null,
      "outputs": [
        {
          "output_type": "execute_result",
          "data": {
            "application/vnd.google.colaboratory.intrinsic+json": {
              "type": "string"
            },
            "text/plain": [
              "'Tesla P4'"
            ]
          },
          "metadata": {
            "tags": []
          },
          "execution_count": 3
        }
      ]
    },
    {
      "cell_type": "markdown",
      "metadata": {
        "id": "bbhVW3TfHZtL",
        "colab_type": "text"
      },
      "source": [
        "## Splitting dataset into training, validation and test\n",
        "\n",
        "Considering a split ratio between these three categories, the instances of each class (dog breed) are randomly distributed.\n",
        "\n",
        "`dataset_labels[<PHASE>]` is a list of `(class_index, instance_index)` occurences, where:\n",
        "- `class_index` refers to the index of its dog breed;\n",
        "- `instance_index` refers to the index of the instance at the current dog breed list."
      ]
    },
    {
      "cell_type": "code",
      "metadata": {
        "id": "kEkLiXWr6ly5",
        "colab_type": "code",
        "colab": {}
      },
      "source": [
        "def get_dataset_split_labels(dataset_path, split_ratio):\n",
        "  train_ratio, val_ratio, test_ratio = split_ratio\n",
        "\n",
        "  dataset_labels = { 'train': [], 'val': [], 'test': [] }\n",
        "\n",
        "  classes = os.listdir(dataset_path)\n",
        "  for i_class, curr_class in enumerate(classes):\n",
        "    class_path = os.path.join(dataset_path, curr_class)\n",
        "    instances = os.listdir(class_path)\n",
        "    n_instances = len(instances)\n",
        "\n",
        "    labels = [(i_class, label) for label in list(range(n_instances))]\n",
        "    random.shuffle(labels)\n",
        "\n",
        "    train_l = int(n_instances * train_ratio)\n",
        "    val_l = int(n_instances * val_ratio)\n",
        "    test_l = int(n_instances * test_ratio)\n",
        "\n",
        "    curr_train_labels = labels[:train_l]\n",
        "    curr_val_labels = labels[train_l:train_l + val_l]\n",
        "    curr_test_labels = labels[train_l + val_l:train_l + val_l + test_l]\n",
        "    \n",
        "    dataset_labels['train'] += curr_train_labels\n",
        "    dataset_labels['val'] += curr_val_labels\n",
        "    dataset_labels['test'] += curr_test_labels\n",
        "\n",
        "  return dataset_labels"
      ],
      "execution_count": null,
      "outputs": []
    },
    {
      "cell_type": "markdown",
      "metadata": {
        "id": "X6MIl578Jpx6",
        "colab_type": "text"
      },
      "source": [
        "## Creating the dataset loader\n",
        "\n",
        "For reading an entry from the dataset from an index:\n",
        "- `class_index` and `instance_index` are obtained from the previously generated labels;\n",
        "- The image path is obtained (`img_path`);\n",
        "- The image is read and converted to RGB channels (`img`), just in case the original image has a transparency channel (which will be not used) or the original image is in grayscale;\n",
        "- The network input (`x`) is generated by preprocessing the image. This preprocess depends of the current phase (training, validation or test), since the training phase deals with data augmentation;\n",
        "- The network output (`y`) is generated by creating a vector of `self.n_classes`-zeros, where `self.n_classes` is the number of classes (dog breeds). In `y`, it is attributed a value of 1 to its `class_index`'th position (one-hot encoding)."
      ]
    },
    {
      "cell_type": "code",
      "metadata": {
        "id": "Jlpio7fW96Tp",
        "colab_type": "code",
        "colab": {}
      },
      "source": [
        "class ImageDataset(torch.utils.data.Dataset):\n",
        "  def __init__(self, dataset_path, labels, transform):\n",
        "    self.dataset_path = dataset_path\n",
        "    self.labels = labels\n",
        "    self.transform = transform\n",
        "\n",
        "    classes = os.listdir(self.dataset_path)\n",
        "    self.n_classes = len(classes)\n",
        "\n",
        "    self.classes_path = [os.path.join(self.dataset_path, c) for c in classes]\n",
        "    self.instances_path = [[os.path.join(class_path, instance)\n",
        "        for instance in os.listdir(class_path)]\n",
        "      for class_path in self.classes_path]\n",
        "\n",
        "  def __getitem__(self, index):\n",
        "    class_index, instance_index = self.labels[index]\n",
        "    img_path = self.instances_path[class_index][instance_index]\n",
        "    img = Image.open(img_path).convert('RGB')\n",
        "\n",
        "    x = self.transform(img)\n",
        "    \n",
        "    y = torch.LongTensor(self.n_classes)\n",
        "    y.zero_()\n",
        "    y[class_index] = 1\n",
        "\n",
        "    return x, y\n",
        "\n",
        "  def __len__(self):\n",
        "    return len(self.labels)"
      ],
      "execution_count": null,
      "outputs": []
    },
    {
      "cell_type": "markdown",
      "metadata": {
        "id": "bawU56OFNVF3",
        "colab_type": "text"
      },
      "source": [
        "## Creating the CNN model architecture\n",
        "\n",
        "The model shall have a fixed input size with 3 channels (corresponding to the red, green and blue channels). Also, the model shall output a vector with a size of `n_classes`, where each value corresponds to the confidence of the input image (a dog) of representing each class (dog breed).\n",
        "\n",
        "A ResNet50-based (a greater) and a MobileNetV2-based (a more efficient) model were used; in both, their last layer (which corresponds to a fully connecter layer) is replaced by another FCL whose output size correspond to `n_classes`."
      ]
    },
    {
      "cell_type": "code",
      "metadata": {
        "id": "meA8SfW118Gu",
        "colab_type": "code",
        "colab": {}
      },
      "source": [
        "def resnet50_based_model(n_classes):\n",
        "  x = torchvision.models.resnet50(pretrained=True)\n",
        "  x.fc = torch.nn.Linear(2048, n_classes)\n",
        "\n",
        "  return x\n",
        "\n",
        "def mobilenetv2_based_model(n_classes):\n",
        "  x = torchvision.models.mobilenet_v2(pretrained=True)\n",
        "  x.fc = torch.nn.Linear(1280, n_classes)\n",
        "\n",
        "  return x"
      ],
      "execution_count": null,
      "outputs": []
    },
    {
      "cell_type": "markdown",
      "metadata": {
        "id": "ib4SxYSzQ3AY",
        "colab_type": "text"
      },
      "source": [
        "## Training the model\n",
        "\n"
      ]
    },
    {
      "cell_type": "code",
      "metadata": {
        "id": "5qU6x0pfYCZa",
        "colab_type": "code",
        "colab": {}
      },
      "source": [
        "def train(model, criterion, optimizer, scheduler, n_epochs):\n",
        "  best_weights = copy.deepcopy(model.state_dict())\n",
        "  best_acc = 0.0\n",
        "\n",
        "  for epoch in range(n_epochs):\n",
        "    for phase in ['train', 'val']:\n",
        "      if phase == 'train':\n",
        "        model.train()\n",
        "      else:\n",
        "        model.eval()\n",
        "\n",
        "      epoch_loss = 0.0\n",
        "      epoch_acc = 0.0\n",
        "      n_seen_samples = 0\n",
        "\n",
        "      dataloader = tqdm.tqdm(dataloaders[phase], total=len(dataloaders[phase]),\n",
        "          position=0, leave=True)\n",
        "      \n",
        "      # Iterate through every pair of (input, output) from the dataset\n",
        "      for x, y_gt in dataloader:\n",
        "        curr_batch_size = x.shape[0]\n",
        "        n_seen_samples += curr_batch_size\n",
        "\n",
        "        optimizer.zero_grad()\n",
        "\n",
        "        x = x.to(device)\n",
        "        y_gt = y_gt.to(device)\n",
        "        y_pred = model(x)\n",
        "\n",
        "        _, label_gt = torch.max(y_gt, 1)\n",
        "        _, label_pred = torch.max(y_pred, 1)\n",
        "\n",
        "        loss = criterion(y_pred, label_gt)\n",
        "\n",
        "        if phase == 'train':\n",
        "          loss.backward()\n",
        "          optimizer.step()\n",
        "\n",
        "        epoch_loss += loss.item() * curr_batch_size\n",
        "        epoch_acc += torch.sum(label_pred == label_gt).item()\n",
        "\n",
        "        curr_loss = epoch_loss / n_seen_samples\n",
        "        curr_acc = epoch_acc / n_seen_samples\n",
        "\n",
        "        dataloader.set_postfix(Epoch='%s/%s' % (epoch+1, n_epochs),\n",
        "            Loss=curr_loss, Acc=curr_acc, refresh=True)\n",
        "\n",
        "      if phase == 'train':\n",
        "        scheduler.step()\n",
        "      \n",
        "      epoch_loss /= len(datasets[phase])\n",
        "      epoch_acc /= len(datasets[phase])\n",
        "\n",
        "      if phase == 'val' and epoch_acc > best_acc:\n",
        "        best_acc = epoch_acc\n",
        "        best_weights = copy.deepcopy(model.state_dict())\n",
        "\n",
        "  model.load_state_dict(best_weights)\n",
        "\n",
        "  return model, best_acc"
      ],
      "execution_count": null,
      "outputs": []
    },
    {
      "cell_type": "markdown",
      "metadata": {
        "id": "4Nt9Da9vTZej",
        "colab_type": "text"
      },
      "source": [
        "## Testing the model"
      ]
    },
    {
      "cell_type": "code",
      "metadata": {
        "id": "tJvetcNIAC8T",
        "colab_type": "code",
        "colab": {}
      },
      "source": [
        "def test(model):\n",
        "  model.eval()\n",
        "  acc = 0.0\n",
        "  n_seen_samples = 0\n",
        "\n",
        "  dataloader = tqdm.tqdm(dataloaders['test'], total=len(dataloaders['test']),\n",
        "      position=0, leave=True)\n",
        "  for x, y_gt in dataloader:\n",
        "    curr_batch_size = x.shape[0]\n",
        "    n_seen_samples += curr_batch_size\n",
        "\n",
        "    x = x.to(device)\n",
        "    y_gt = y_gt.to(device)\n",
        "    y_pred = model(x)\n",
        "\n",
        "    _, label_gt = torch.max(y_gt, 1)\n",
        "    _, label_pred = torch.max(y_pred, 1)\n",
        "\n",
        "    acc += torch.sum(label_pred == label_gt).item()\n",
        "\n",
        "    curr_acc = acc / n_seen_samples\n",
        "    \n",
        "    dataloader.set_postfix(Acc=curr_acc, refresh=True)\n",
        "\n",
        "  acc /= len(datasets['test'])\n",
        "\n",
        "  return acc"
      ],
      "execution_count": null,
      "outputs": []
    },
    {
      "cell_type": "markdown",
      "metadata": {
        "id": "5wZix-XITdZC",
        "colab_type": "text"
      },
      "source": [
        "## Sets of preprocessing operations\n",
        "\n",
        "Each set refers to each phase (training, validation and test)"
      ]
    },
    {
      "cell_type": "code",
      "metadata": {
        "id": "aB2xeAVaRys4",
        "colab_type": "code",
        "colab": {}
      },
      "source": [
        "dataset_transforms = {\n",
        "    'train': transforms.Compose([\n",
        "        transforms.RandomResizedCrop(224),\n",
        "        transforms.RandomHorizontalFlip(),\n",
        "        transforms.ToTensor(),\n",
        "        transforms.Normalize([0.485, 0.456, 0.406], [0.229, 0.224, 0.225])]),\n",
        "    'val': transforms.Compose([\n",
        "        transforms.CenterCrop(224),\n",
        "        transforms.ToTensor(),\n",
        "        transforms.Normalize([0.485, 0.456, 0.406], [0.229, 0.224, 0.225])]),\n",
        "    'test': transforms.Compose([\n",
        "        transforms.Resize(256),\n",
        "        transforms.CenterCrop(224),\n",
        "        transforms.ToTensor(),\n",
        "        transforms.Normalize([0.485, 0.456, 0.406], [0.229, 0.224, 0.225])]) }"
      ],
      "execution_count": null,
      "outputs": []
    },
    {
      "cell_type": "code",
      "metadata": {
        "id": "HvqCWrHt3NsW",
        "colab_type": "code",
        "colab": {
          "base_uri": "https://localhost:8080/",
          "height": 84,
          "referenced_widgets": [
            "4ccb3962a3e241cca53aa8a227fc9437",
            "955f46dc28c345fb8cd13a366a6fd285",
            "cc9ea230c5504b60a7b6a16843d2cfde",
            "1901d9b598144b56ae03250960b18eaf",
            "cafc514ec6784da68099e495b1726394",
            "755251b640254835a5dabcf5b6ed1637",
            "79aeb3d3dd7c465c87ccfdbd3894fbbd",
            "b4b93e68ba66419b8c32edb6aed3aba2"
          ]
        },
        "outputId": "6ac49f0f-0c82-43f0-a634-e158e67fb645"
      },
      "source": [
        "# Path containing the dog breed training dataset\n",
        "dataset_path = os.path.join(root, 'dogs', 'train')\n",
        "\n",
        "# Split ratio of the training, validation and test portions (these portions sums\n",
        "#   up to 1.0)\n",
        "split_ratio = [0.7, 0.15, 0.15]\n",
        "\n",
        "# Number of dog breeds in the training dataset\n",
        "n_classes = datasets['train'].n_classes\n",
        "\n",
        "# Number of epochs for the model to be trained\n",
        "n_epochs = 5\n",
        "\n",
        "# Batch size for the training, validation and test step\n",
        "batch_size = 32\n",
        "\n",
        "n_workers = 8\n",
        "\n",
        "# Get dataset labels, splitted for each phase (training, validation and test)\n",
        "dataset_labels = get_dataset_split_labels(dataset_path, split_ratio)\n",
        "\n",
        "# \n",
        "datasets = {\n",
        "    'train': ImageDataset(dataset_path, dataset_labels['train'],\n",
        "        dataset_transforms['train']),\n",
        "    'val': ImageDataset(dataset_path, dataset_labels['val'],\n",
        "        dataset_transforms['val']),\n",
        "    'test': ImageDataset(dataset_path, dataset_labels['test'],\n",
        "        dataset_transforms['test']) }\n",
        "\n",
        "model = resnet50_based_model(n_classes)\n",
        "# model = mobilenetv2_based_model(n_classes)\n",
        "model = torch.jit.script(model).to(device)\n",
        "\n",
        "criterion = torch.nn.CrossEntropyLoss()\n",
        "optimizer = torch.optim.SGD(model.parameters(), lr=0.001, momentum=0.9)\n",
        "scheduler = torch.optim.lr_scheduler.StepLR(optimizer, step_size=7, gamma=0.1)\n",
        "\n",
        "dataloaders = {\n",
        "    'train': torch.utils.data.DataLoader(datasets['train'],\n",
        "        batch_size=batch_size, num_workers=n_workers, shuffle=True),\n",
        "    'val': torch.utils.data.DataLoader(datasets['val'], batch_size=batch_size,\n",
        "        num_workers=n_workers, shuffle=True),\n",
        "    'test': torch.utils.data.DataLoader(datasets['test'], batch_size=batch_size,\n",
        "        num_workers=n_workers, shuffle=True) }\n",
        "\n",
        "trained_model_ckpt_path = os.path.join(root, 'models',\n",
        "    'resnet50_based_classifier.pth')"
      ],
      "execution_count": null,
      "outputs": [
        {
          "output_type": "stream",
          "text": [
            "Downloading: \"https://download.pytorch.org/models/mobilenet_v2-b0353104.pth\" to /root/.cache/torch/hub/checkpoints/mobilenet_v2-b0353104.pth\n"
          ],
          "name": "stderr"
        },
        {
          "output_type": "display_data",
          "data": {
            "application/vnd.jupyter.widget-view+json": {
              "model_id": "4ccb3962a3e241cca53aa8a227fc9437",
              "version_minor": 0,
              "version_major": 2
            },
            "text/plain": [
              "HBox(children=(FloatProgress(value=0.0, max=14212972.0), HTML(value='')))"
            ]
          },
          "metadata": {
            "tags": []
          }
        },
        {
          "output_type": "stream",
          "text": [
            "\n"
          ],
          "name": "stdout"
        }
      ]
    },
    {
      "cell_type": "code",
      "metadata": {
        "id": "BuKmUol4gaHl",
        "colab_type": "code",
        "colab": {
          "base_uri": "https://localhost:8080/",
          "height": 190
        },
        "outputId": "c6b63c92-d0f6-4299-f2c5-374f80601755"
      },
      "source": [
        "trained_model, val_acc = train(model, criterion, optimizer, scheduler, n_epochs)\n",
        "torch.save({\n",
        "    'state_dict': trained_model.state_dict(),\n",
        "    'acc': val_acc,\n",
        "    'n_classes': n_classes }, trained_model_ckpt_path)"
      ],
      "execution_count": null,
      "outputs": [
        {
          "output_type": "stream",
          "text": [
            "100%|██████████| 379/379 [06:52<00:00,  1.09s/it, Acc=0.249, Epoch=1/5, Loss=3.85]\n",
            "100%|██████████| 80/80 [01:45<00:00,  1.32s/it, Acc=0.496, Epoch=1/5, Loss=1.92]\n",
            "100%|██████████| 379/379 [01:27<00:00,  4.31it/s, Acc=0.48, Epoch=2/5, Loss=1.99]\n",
            "100%|██████████| 80/80 [00:12<00:00,  6.21it/s, Acc=0.596, Epoch=2/5, Loss=1.47]\n",
            "100%|██████████| 379/379 [01:27<00:00,  4.33it/s, Acc=0.543, Epoch=3/5, Loss=1.69]\n",
            "100%|██████████| 80/80 [00:12<00:00,  6.19it/s, Acc=0.634, Epoch=3/5, Loss=1.29]\n",
            "100%|██████████| 379/379 [01:27<00:00,  4.32it/s, Acc=0.597, Epoch=4/5, Loss=1.5]\n",
            "100%|██████████| 80/80 [00:12<00:00,  6.22it/s, Acc=0.658, Epoch=4/5, Loss=1.21]\n",
            "100%|██████████| 379/379 [01:27<00:00,  4.34it/s, Acc=0.62, Epoch=5/5, Loss=1.4]\n",
            "100%|██████████| 80/80 [00:12<00:00,  6.37it/s, Acc=0.686, Epoch=5/5, Loss=1.11]\n"
          ],
          "name": "stderr"
        }
      ]
    },
    {
      "cell_type": "code",
      "metadata": {
        "id": "W9EExOhO6N0m",
        "colab_type": "code",
        "colab": {
          "base_uri": "https://localhost:8080/",
          "height": 34
        },
        "outputId": "9f279db5-97fb-4e16-f4b7-76acfddfc8b4"
      },
      "source": [
        "trained_model = resnet50_based_model(n_embeddings)\n",
        "trained_model.load_state_dict(torch.load(trained_model_ckpt_path)['state_dict'])\n",
        "trained_model.eval()\n",
        "trained_model = torch.jit.script(trained_model).to(device)\n",
        "\n",
        "test_acc = test(trained_model)"
      ],
      "execution_count": null,
      "outputs": [
        {
          "output_type": "stream",
          "text": [
            "100%|██████████| 80/80 [00:17<00:00,  4.70it/s, Acc=0.736]\n"
          ],
          "name": "stderr"
        }
      ]
    }
  ]
}