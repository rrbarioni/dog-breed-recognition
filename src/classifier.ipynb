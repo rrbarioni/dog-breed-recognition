{
  "nbformat": 4,
  "nbformat_minor": 0,
  "metadata": {
    "colab": {
      "name": "classifier.ipynb",
      "provenance": [],
      "collapsed_sections": []
    },
    "kernelspec": {
      "name": "python3",
      "display_name": "Python 3"
    },
    "accelerator": "GPU"
  },
  "cells": [
    {
      "cell_type": "markdown",
      "metadata": {
        "id": "ZfYqhdZ7HLlA",
        "colab_type": "text"
      },
      "source": [
        "# Dog Breed Classifier"
      ]
    },
    {
      "cell_type": "markdown",
      "metadata": {
        "id": "Lz5SjkfKFMOJ",
        "colab_type": "text"
      },
      "source": [
        "## Accessing the Dog Breed Recognition dataset\n",
        "\n",
        "I have created a directory called \"dog-breed-recognition\". There, I have put the directory called \"dogs\" as refering to the dataset itself. For training, it is only used the samples contained at \"train\" directory."
      ]
    },
    {
      "cell_type": "code",
      "metadata": {
        "id": "dnNDLqAHzGhq",
        "colab_type": "code",
        "colab": {
          "base_uri": "https://localhost:8080/",
          "height": 34
        },
        "outputId": "507094d1-f1d5-4a47-b0b8-ed6771ed807b"
      },
      "source": [
        "from google.colab import drive\n",
        "drive.mount('/content/drive/')\n",
        "root = '/content/drive/My Drive/Colab Notebooks/dog-breed-recognition'"
      ],
      "execution_count": 1,
      "outputs": [
        {
          "output_type": "stream",
          "text": [
            "Drive already mounted at /content/drive/; to attempt to forcibly remount, call drive.mount(\"/content/drive/\", force_remount=True).\n"
          ],
          "name": "stdout"
        }
      ]
    },
    {
      "cell_type": "markdown",
      "metadata": {
        "id": "xgMQ4TPfGtLE",
        "colab_type": "text"
      },
      "source": [
        "## Importing basic Python libraries"
      ]
    },
    {
      "cell_type": "code",
      "metadata": {
        "id": "hujbFfQaz09m",
        "colab_type": "code",
        "colab": {}
      },
      "source": [
        "import os\n",
        "import sys\n",
        "import tqdm\n",
        "import random\n",
        "import copy\n",
        "\n",
        "from PIL import Image\n",
        "import numpy as np"
      ],
      "execution_count": 2,
      "outputs": []
    },
    {
      "cell_type": "markdown",
      "metadata": {
        "id": "M87o5lewG0mi",
        "colab_type": "text"
      },
      "source": [
        "## Importing PyTorch library\n",
        "\n",
        "For GPU usage, go to \"Edit > Notebook Settings\" and make sure the hardware accelerator is set to GPU."
      ]
    },
    {
      "cell_type": "code",
      "metadata": {
        "id": "oafpKGan0MCn",
        "colab_type": "code",
        "colab": {}
      },
      "source": [
        "import torch\n",
        "import torchvision\n",
        "from torchvision import transforms\n",
        "\n",
        "# Remember to activate GPU\n",
        "device = torch.device('cuda:0' if torch.cuda.is_available() else 'cpu')\n",
        "\n",
        "if torch.cuda.is_available():\n",
        "  torch.cuda.get_device_name(0)"
      ],
      "execution_count": 3,
      "outputs": []
    },
    {
      "cell_type": "markdown",
      "metadata": {
        "id": "bbhVW3TfHZtL",
        "colab_type": "text"
      },
      "source": [
        "## Splitting dataset into training, validation and test\n",
        "\n",
        "Considering a split ratio between these three categories, the instances of each class (dog breed) are randomly distributed.\n",
        "\n",
        "`dataset_labels[<PHASE>]` is a list of `(class_index, instance_index)` occurences, where:\n",
        "- `class_index` refers to the index of its dog breed;\n",
        "- `instance_index` refers to the index of the instance at the current dog breed list."
      ]
    },
    {
      "cell_type": "code",
      "metadata": {
        "id": "kEkLiXWr6ly5",
        "colab_type": "code",
        "colab": {}
      },
      "source": [
        "def get_dataset_split_labels(dataset_path, split_ratio):\n",
        "  train_ratio, val_ratio, test_ratio = split_ratio\n",
        "\n",
        "  dataset_labels = { 'train': [], 'val': [], 'test': [] }\n",
        "\n",
        "  classes = sorted(os.listdir(dataset_path))\n",
        "  for i_class, curr_class in enumerate(classes):\n",
        "    class_path = os.path.join(dataset_path, curr_class)\n",
        "    instances = sorted(os.listdir(class_path))\n",
        "    n_instances = len(instances)\n",
        "\n",
        "    labels = [(i_class, label) for label in list(range(n_instances))]\n",
        "    random.shuffle(labels)\n",
        "\n",
        "    train_l = int(n_instances * train_ratio)\n",
        "    val_l = int(n_instances * val_ratio)\n",
        "    test_l = int(n_instances * test_ratio)\n",
        "\n",
        "    curr_train_labels = labels[:train_l]\n",
        "    curr_val_labels = labels[train_l:train_l + val_l]\n",
        "    curr_test_labels = labels[train_l + val_l:train_l + val_l + test_l]\n",
        "    \n",
        "    dataset_labels['train'] += curr_train_labels\n",
        "    dataset_labels['val'] += curr_val_labels\n",
        "    dataset_labels['test'] += curr_test_labels\n",
        "\n",
        "  return dataset_labels"
      ],
      "execution_count": 4,
      "outputs": []
    },
    {
      "cell_type": "markdown",
      "metadata": {
        "id": "X6MIl578Jpx6",
        "colab_type": "text"
      },
      "source": [
        "## Creating the dataset loader\n",
        "\n",
        "For reading an entry from the dataset from an index:\n",
        "- `class_index` and `instance_index` are obtained from the previously generated labels;\n",
        "- The image path is obtained (`img_path`);\n",
        "- The image is read and converted to RGB channels (`img`), just in case the original image has a transparency channel (which will be not used) or the original image is in grayscale;\n",
        "- The network input (`x`) is generated by preprocessing the image. This preprocess depends of the current phase (training, validation or test), since the training phase deals with data augmentation;\n",
        "- The network output (`y`) is generated by creating a vector of `self.n_classes`-zeros, where `self.n_classes` is the number of classes (dog breeds). In `y`, it is attributed a value of 1 to its `class_index`'th position (one-hot encoding)."
      ]
    },
    {
      "cell_type": "code",
      "metadata": {
        "id": "Jlpio7fW96Tp",
        "colab_type": "code",
        "colab": {}
      },
      "source": [
        "class ImageDataset(torch.utils.data.Dataset):\n",
        "  def __init__(self, dataset_path, labels, transform):\n",
        "    self.dataset_path = dataset_path\n",
        "    self.labels = labels\n",
        "    self.transform = transform\n",
        "\n",
        "    classes = sorted(os.listdir(self.dataset_path))\n",
        "    self.n_classes = len(classes)\n",
        "\n",
        "    self.classes_path = [os.path.join(self.dataset_path, c) for c in classes]\n",
        "    self.instances_path = [[os.path.join(class_path, instance)\n",
        "        for instance in sorted(os.listdir(class_path))]\n",
        "      for class_path in self.classes_path]\n",
        "\n",
        "  def __getitem__(self, index):\n",
        "    class_index, instance_index = self.labels[index]\n",
        "    img_path = self.instances_path[class_index][instance_index]\n",
        "    img = Image.open(img_path).convert('RGB')\n",
        "\n",
        "    x = self.transform(img)\n",
        "    \n",
        "    y = torch.LongTensor(self.n_classes)\n",
        "    y.zero_()\n",
        "    y[class_index] = 1\n",
        "    \n",
        "    return x, y\n",
        "\n",
        "  def __len__(self):\n",
        "    return len(self.labels)"
      ],
      "execution_count": 5,
      "outputs": []
    },
    {
      "cell_type": "markdown",
      "metadata": {
        "id": "bawU56OFNVF3",
        "colab_type": "text"
      },
      "source": [
        "## Creating the CNN model architecture\n",
        "\n",
        "The model shall have a fixed input size with 3 channels (corresponding to the red, green and blue channels). Also, the model shall output a vector with a size of `n_classes`, where each value corresponds to the confidence of the input image (a dog) of representing each class (dog breed).\n",
        "\n",
        "A ResNet50-based model was used; its last layer (which corresponds to a fully connecter layer) is replaced by another FCL whose output size correspond to `n_classes`."
      ]
    },
    {
      "cell_type": "code",
      "metadata": {
        "id": "meA8SfW118Gu",
        "colab_type": "code",
        "colab": {}
      },
      "source": [
        "def classifier_model(n_classes):\n",
        "  x = torchvision.models.resnet50(pretrained=True)\n",
        "  x.fc = torch.nn.Sequential(\n",
        "      torch.nn.Linear(2048, n_classes),\n",
        "      torch.nn.Sigmoid())\n",
        "\n",
        "  return x"
      ],
      "execution_count": 6,
      "outputs": []
    },
    {
      "cell_type": "markdown",
      "metadata": {
        "id": "ib4SxYSzQ3AY",
        "colab_type": "text"
      },
      "source": [
        "## Training the model\n",
        "\n"
      ]
    },
    {
      "cell_type": "code",
      "metadata": {
        "id": "5qU6x0pfYCZa",
        "colab_type": "code",
        "colab": {}
      },
      "source": [
        "def train(model, criterion, optimizer, scheduler, n_epochs):\n",
        "  best_weights = copy.deepcopy(model.state_dict())\n",
        "  best_acc = 0.0\n",
        "\n",
        "  for epoch in range(n_epochs):\n",
        "    for phase in ['train', 'val']:\n",
        "      if phase == 'train':\n",
        "        model.train()\n",
        "      else:\n",
        "        model.eval()\n",
        "\n",
        "      epoch_loss = 0.0\n",
        "      epoch_acc = 0.0\n",
        "      n_seen_samples = 0\n",
        "\n",
        "      dataloader = tqdm.tqdm(dataloaders[phase], total=len(dataloaders[phase]),\n",
        "          position=0, leave=True)\n",
        "      \n",
        "      # Iterate through every pair of (input, output) from the dataset\n",
        "      for x, y_gt in dataloader:\n",
        "        curr_batch_size = x.shape[0]\n",
        "        n_seen_samples += curr_batch_size\n",
        "\n",
        "        optimizer.zero_grad()\n",
        "\n",
        "        x = x.to(device)\n",
        "        y_gt = y_gt.to(device)\n",
        "        y_pred = model(x)\n",
        "\n",
        "        _, label_gt = torch.max(y_gt, 1)\n",
        "        _, label_pred = torch.max(y_pred, 1)\n",
        "\n",
        "        loss = criterion(y_pred, label_gt)\n",
        "\n",
        "        if phase == 'train':\n",
        "          loss.backward()\n",
        "          optimizer.step()\n",
        "\n",
        "        epoch_loss += loss.item() * curr_batch_size\n",
        "        epoch_acc += torch.sum(label_pred == label_gt).item()\n",
        "\n",
        "        curr_loss = epoch_loss / n_seen_samples\n",
        "        curr_acc = epoch_acc / n_seen_samples\n",
        "\n",
        "        dataloader.set_postfix(Epoch='%s/%s' % (epoch+1, n_epochs),\n",
        "            Loss=curr_loss, Acc=curr_acc, refresh=True)\n",
        "\n",
        "      if phase == 'train':\n",
        "        scheduler.step()\n",
        "      \n",
        "      epoch_loss /= len(datasets[phase])\n",
        "      epoch_acc /= len(datasets[phase])\n",
        "\n",
        "      if phase == 'val' and epoch_acc > best_acc:\n",
        "        best_acc = epoch_acc\n",
        "        best_weights = copy.deepcopy(model.state_dict())\n",
        "\n",
        "  model.load_state_dict(best_weights)\n",
        "\n",
        "  return model, best_acc"
      ],
      "execution_count": 7,
      "outputs": []
    },
    {
      "cell_type": "markdown",
      "metadata": {
        "id": "4Nt9Da9vTZej",
        "colab_type": "text"
      },
      "source": [
        "## Testing the model"
      ]
    },
    {
      "cell_type": "code",
      "metadata": {
        "id": "tJvetcNIAC8T",
        "colab_type": "code",
        "colab": {}
      },
      "source": [
        "def test(model):\n",
        "  model.eval()\n",
        "  acc = 0.0\n",
        "  n_seen_samples = 0\n",
        "\n",
        "  dataloader = tqdm.tqdm(dataloaders['test'], total=len(dataloaders['test']),\n",
        "      position=0, leave=True)\n",
        "  for x, y_gt in dataloader:\n",
        "    curr_batch_size = x.shape[0]\n",
        "    n_seen_samples += curr_batch_size\n",
        "\n",
        "    x = x.to(device)\n",
        "    y_gt = y_gt.to(device)\n",
        "    y_pred = model(x)\n",
        "\n",
        "    _, label_gt = torch.max(y_gt, 1)\n",
        "    _, label_pred = torch.max(y_pred, 1)\n",
        "\n",
        "    acc += torch.sum(label_pred == label_gt).item()\n",
        "\n",
        "    curr_acc = acc / n_seen_samples\n",
        "    \n",
        "    dataloader.set_postfix(Acc=curr_acc, refresh=True)\n",
        "\n",
        "  acc /= len(datasets['test'])\n",
        "\n",
        "  return acc"
      ],
      "execution_count": 8,
      "outputs": []
    },
    {
      "cell_type": "markdown",
      "metadata": {
        "id": "5wZix-XITdZC",
        "colab_type": "text"
      },
      "source": [
        "## Sets of preprocessing operations\n",
        "\n",
        "Each set refers to each phase (training, validation and test)"
      ]
    },
    {
      "cell_type": "code",
      "metadata": {
        "id": "aB2xeAVaRys4",
        "colab_type": "code",
        "colab": {}
      },
      "source": [
        "dataset_transforms = {\n",
        "    'train': transforms.Compose([\n",
        "        transforms.RandomResizedCrop(224),\n",
        "        transforms.RandomHorizontalFlip(),\n",
        "        transforms.ToTensor(),\n",
        "        transforms.Normalize([0.485, 0.456, 0.406], [0.229, 0.224, 0.225])]),\n",
        "    'val': transforms.Compose([\n",
        "        transforms.CenterCrop(224),\n",
        "        transforms.ToTensor(),\n",
        "        transforms.Normalize([0.485, 0.456, 0.406], [0.229, 0.224, 0.225])]),\n",
        "    'test': transforms.Compose([\n",
        "        transforms.Resize(256),\n",
        "        transforms.CenterCrop(224),\n",
        "        transforms.ToTensor(),\n",
        "        transforms.Normalize([0.485, 0.456, 0.406], [0.229, 0.224, 0.225])]) }"
      ],
      "execution_count": 9,
      "outputs": []
    },
    {
      "cell_type": "code",
      "metadata": {
        "id": "HvqCWrHt3NsW",
        "colab_type": "code",
        "colab": {}
      },
      "source": [
        "# Path containing the dog breed training dataset\n",
        "dataset_path = os.path.join(root, 'dogs', 'train')\n",
        "\n",
        "# Split ratio of the training, validation and test portions (these portions sums\n",
        "#   up to 1.0)\n",
        "split_ratio = [0.7, 0.15, 0.15]\n",
        "\n",
        "# Get dataset labels, splitted for each phase\n",
        "dataset_labels = get_dataset_split_labels(dataset_path, split_ratio)\n",
        "\n",
        "# Creating PyTorch dataset instance for each phase (training, validation and\n",
        "#   test)\n",
        "datasets = {\n",
        "    'train': ImageDataset(dataset_path, dataset_labels['train'],\n",
        "        dataset_transforms['train']),\n",
        "    'val': ImageDataset(dataset_path, dataset_labels['val'],\n",
        "        dataset_transforms['val']),\n",
        "    'test': ImageDataset(dataset_path, dataset_labels['test'],\n",
        "        dataset_transforms['test']) }\n",
        "\n",
        "# Number of dog breeds in the training dataset\n",
        "n_classes = datasets['train'].n_classes\n",
        "\n",
        "# Number of epochs for the model to be trained\n",
        "n_epochs = 10\n",
        "\n",
        "# Batch size for each phase\n",
        "batch_size = 32\n",
        "\n",
        "n_workers = 8\n",
        "\n",
        "# Instantiate CNN classifier model\n",
        "model = classifier_model(n_classes)\n",
        "model = torch.jit.script(model).to(device)\n",
        "\n",
        "# Use Cross Entropy loss\n",
        "criterion = torch.nn.CrossEntropyLoss()\n",
        "optimizer = torch.optim.SGD(model.parameters(), lr=0.001, momentum=0.9)\n",
        "scheduler = torch.optim.lr_scheduler.StepLR(optimizer, step_size=7, gamma=0.1)\n",
        "\n",
        "dataloaders = {\n",
        "    'train': torch.utils.data.DataLoader(datasets['train'],\n",
        "        batch_size=batch_size, num_workers=n_workers, shuffle=True),\n",
        "    'val': torch.utils.data.DataLoader(datasets['val'], batch_size=batch_size,\n",
        "        num_workers=n_workers, shuffle=True),\n",
        "    'test': torch.utils.data.DataLoader(datasets['test'], batch_size=batch_size,\n",
        "        num_workers=n_workers, shuffle=True) }\n",
        "\n",
        "trained_model_ckpt_path = os.path.join(root, 'models', 'classifier.pth')"
      ],
      "execution_count": 10,
      "outputs": []
    },
    {
      "cell_type": "code",
      "metadata": {
        "id": "BuKmUol4gaHl",
        "colab_type": "code",
        "colab": {
          "base_uri": "https://localhost:8080/",
          "height": 364
        },
        "outputId": "6bc1aa5b-9b5e-4209-ec6e-3078c9f5d2cd"
      },
      "source": [
        "trained_model, val_acc = train(model, criterion, optimizer, scheduler, n_epochs)\n",
        "torch.save({\n",
        "    'state_dict': trained_model.state_dict(),\n",
        "    'acc': val_acc,\n",
        "    'n_classes': n_classes }, trained_model_ckpt_path)"
      ],
      "execution_count": 11,
      "outputs": [
        {
          "output_type": "stream",
          "text": [
            "100%|██████████| 379/379 [02:10<00:00,  2.91it/s, Acc=0.132, Epoch=1/10, Loss=4.5]\n",
            "100%|██████████| 80/80 [00:14<00:00,  5.51it/s, Acc=0.469, Epoch=1/10, Loss=4.32]\n",
            "100%|██████████| 379/379 [02:05<00:00,  3.02it/s, Acc=0.496, Epoch=2/10, Loss=4.27]\n",
            "100%|██████████| 80/80 [00:14<00:00,  5.58it/s, Acc=0.709, Epoch=2/10, Loss=4.09]\n",
            "100%|██████████| 379/379 [02:06<00:00,  2.99it/s, Acc=0.634, Epoch=3/10, Loss=4.11]\n",
            "100%|██████████| 80/80 [00:14<00:00,  5.54it/s, Acc=0.75, Epoch=3/10, Loss=3.97]\n",
            "100%|██████████| 379/379 [02:07<00:00,  2.98it/s, Acc=0.671, Epoch=4/10, Loss=4.02]\n",
            "100%|██████████| 80/80 [00:14<00:00,  5.62it/s, Acc=0.756, Epoch=4/10, Loss=3.9]\n",
            "100%|██████████| 379/379 [02:06<00:00,  2.99it/s, Acc=0.681, Epoch=5/10, Loss=3.97]\n",
            "100%|██████████| 80/80 [00:14<00:00,  5.54it/s, Acc=0.772, Epoch=5/10, Loss=3.87]\n",
            "100%|██████████| 379/379 [02:06<00:00,  3.00it/s, Acc=0.69, Epoch=6/10, Loss=3.93]\n",
            "100%|██████████| 80/80 [00:14<00:00,  5.51it/s, Acc=0.777, Epoch=6/10, Loss=3.84]\n",
            "100%|██████████| 379/379 [02:06<00:00,  2.99it/s, Acc=0.696, Epoch=7/10, Loss=3.91]\n",
            "100%|██████████| 80/80 [00:14<00:00,  5.60it/s, Acc=0.776, Epoch=7/10, Loss=3.82]\n",
            "100%|██████████| 379/379 [02:06<00:00,  3.00it/s, Acc=0.702, Epoch=8/10, Loss=3.9]\n",
            "100%|██████████| 80/80 [00:14<00:00,  5.70it/s, Acc=0.779, Epoch=8/10, Loss=3.82]\n",
            "100%|██████████| 379/379 [02:06<00:00,  2.99it/s, Acc=0.705, Epoch=9/10, Loss=3.89]\n",
            "100%|██████████| 80/80 [00:14<00:00,  5.60it/s, Acc=0.791, Epoch=9/10, Loss=3.82]\n",
            "100%|██████████| 379/379 [02:06<00:00,  3.00it/s, Acc=0.702, Epoch=10/10, Loss=3.89]\n",
            "100%|██████████| 80/80 [00:14<00:00,  5.71it/s, Acc=0.784, Epoch=10/10, Loss=3.82]\n"
          ],
          "name": "stderr"
        }
      ]
    },
    {
      "cell_type": "code",
      "metadata": {
        "id": "W9EExOhO6N0m",
        "colab_type": "code",
        "colab": {
          "base_uri": "https://localhost:8080/",
          "height": 34
        },
        "outputId": "95c72fb3-f50e-43e2-843f-b76fabbcd964"
      },
      "source": [
        "trained_model = classifier_model(n_classes)\n",
        "trained_model.load_state_dict(torch.load(trained_model_ckpt_path)['state_dict'])\n",
        "trained_model.eval()\n",
        "trained_model = torch.jit.script(trained_model).to(device)\n",
        "\n",
        "test_acc = test(trained_model)"
      ],
      "execution_count": 12,
      "outputs": [
        {
          "output_type": "stream",
          "text": [
            "100%|██████████| 80/80 [00:17<00:00,  4.50it/s, Acc=0.849]\n"
          ],
          "name": "stderr"
        }
      ]
    }
  ]
}