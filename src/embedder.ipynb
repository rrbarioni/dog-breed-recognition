{
  "nbformat": 4,
  "nbformat_minor": 0,
  "metadata": {
    "colab": {
      "name": "embedder.ipynb",
      "provenance": [],
      "collapsed_sections": []
    },
    "kernelspec": {
      "name": "python3",
      "display_name": "Python 3"
    },
    "accelerator": "GPU",
    "widgets": {
      "application/vnd.jupyter.widget-state+json": {
        "8a2ff2fd73594adaa54aff3bf6ca2a08": {
          "model_module": "@jupyter-widgets/controls",
          "model_name": "HBoxModel",
          "state": {
            "_view_name": "HBoxView",
            "_dom_classes": [],
            "_model_name": "HBoxModel",
            "_view_module": "@jupyter-widgets/controls",
            "_model_module_version": "1.5.0",
            "_view_count": null,
            "_view_module_version": "1.5.0",
            "box_style": "",
            "layout": "IPY_MODEL_a04a8cfdfc364509af60ef8cce297ea6",
            "_model_module": "@jupyter-widgets/controls",
            "children": [
              "IPY_MODEL_92e77841c0f041cb920c8c389c58096d",
              "IPY_MODEL_a59eee01b605494b99edd8629e3ab5c4"
            ]
          }
        },
        "a04a8cfdfc364509af60ef8cce297ea6": {
          "model_module": "@jupyter-widgets/base",
          "model_name": "LayoutModel",
          "state": {
            "_view_name": "LayoutView",
            "grid_template_rows": null,
            "right": null,
            "justify_content": null,
            "_view_module": "@jupyter-widgets/base",
            "overflow": null,
            "_model_module_version": "1.2.0",
            "_view_count": null,
            "flex_flow": null,
            "width": null,
            "min_width": null,
            "border": null,
            "align_items": null,
            "bottom": null,
            "_model_module": "@jupyter-widgets/base",
            "top": null,
            "grid_column": null,
            "overflow_y": null,
            "overflow_x": null,
            "grid_auto_flow": null,
            "grid_area": null,
            "grid_template_columns": null,
            "flex": null,
            "_model_name": "LayoutModel",
            "justify_items": null,
            "grid_row": null,
            "max_height": null,
            "align_content": null,
            "visibility": null,
            "align_self": null,
            "height": null,
            "min_height": null,
            "padding": null,
            "grid_auto_rows": null,
            "grid_gap": null,
            "max_width": null,
            "order": null,
            "_view_module_version": "1.2.0",
            "grid_template_areas": null,
            "object_position": null,
            "object_fit": null,
            "grid_auto_columns": null,
            "margin": null,
            "display": null,
            "left": null
          }
        },
        "92e77841c0f041cb920c8c389c58096d": {
          "model_module": "@jupyter-widgets/controls",
          "model_name": "FloatProgressModel",
          "state": {
            "_view_name": "ProgressView",
            "style": "IPY_MODEL_873348141eec4478b529266760a4e0da",
            "_dom_classes": [],
            "description": "100%",
            "_model_name": "FloatProgressModel",
            "bar_style": "success",
            "max": 102502400,
            "_view_module": "@jupyter-widgets/controls",
            "_model_module_version": "1.5.0",
            "value": 102502400,
            "_view_count": null,
            "_view_module_version": "1.5.0",
            "orientation": "horizontal",
            "min": 0,
            "description_tooltip": null,
            "_model_module": "@jupyter-widgets/controls",
            "layout": "IPY_MODEL_439e510fd6984b9d9a457e695ef7bdf5"
          }
        },
        "a59eee01b605494b99edd8629e3ab5c4": {
          "model_module": "@jupyter-widgets/controls",
          "model_name": "HTMLModel",
          "state": {
            "_view_name": "HTMLView",
            "style": "IPY_MODEL_365c986d320244c38d8cc791eecbd469",
            "_dom_classes": [],
            "description": "",
            "_model_name": "HTMLModel",
            "placeholder": "​",
            "_view_module": "@jupyter-widgets/controls",
            "_model_module_version": "1.5.0",
            "value": " 97.8M/97.8M [00:00&lt;00:00, 104MB/s]",
            "_view_count": null,
            "_view_module_version": "1.5.0",
            "description_tooltip": null,
            "_model_module": "@jupyter-widgets/controls",
            "layout": "IPY_MODEL_deeb84bd17984cab830a05a75be63ac1"
          }
        },
        "873348141eec4478b529266760a4e0da": {
          "model_module": "@jupyter-widgets/controls",
          "model_name": "ProgressStyleModel",
          "state": {
            "_view_name": "StyleView",
            "_model_name": "ProgressStyleModel",
            "description_width": "initial",
            "_view_module": "@jupyter-widgets/base",
            "_model_module_version": "1.5.0",
            "_view_count": null,
            "_view_module_version": "1.2.0",
            "bar_color": null,
            "_model_module": "@jupyter-widgets/controls"
          }
        },
        "439e510fd6984b9d9a457e695ef7bdf5": {
          "model_module": "@jupyter-widgets/base",
          "model_name": "LayoutModel",
          "state": {
            "_view_name": "LayoutView",
            "grid_template_rows": null,
            "right": null,
            "justify_content": null,
            "_view_module": "@jupyter-widgets/base",
            "overflow": null,
            "_model_module_version": "1.2.0",
            "_view_count": null,
            "flex_flow": null,
            "width": null,
            "min_width": null,
            "border": null,
            "align_items": null,
            "bottom": null,
            "_model_module": "@jupyter-widgets/base",
            "top": null,
            "grid_column": null,
            "overflow_y": null,
            "overflow_x": null,
            "grid_auto_flow": null,
            "grid_area": null,
            "grid_template_columns": null,
            "flex": null,
            "_model_name": "LayoutModel",
            "justify_items": null,
            "grid_row": null,
            "max_height": null,
            "align_content": null,
            "visibility": null,
            "align_self": null,
            "height": null,
            "min_height": null,
            "padding": null,
            "grid_auto_rows": null,
            "grid_gap": null,
            "max_width": null,
            "order": null,
            "_view_module_version": "1.2.0",
            "grid_template_areas": null,
            "object_position": null,
            "object_fit": null,
            "grid_auto_columns": null,
            "margin": null,
            "display": null,
            "left": null
          }
        },
        "365c986d320244c38d8cc791eecbd469": {
          "model_module": "@jupyter-widgets/controls",
          "model_name": "DescriptionStyleModel",
          "state": {
            "_view_name": "StyleView",
            "_model_name": "DescriptionStyleModel",
            "description_width": "",
            "_view_module": "@jupyter-widgets/base",
            "_model_module_version": "1.5.0",
            "_view_count": null,
            "_view_module_version": "1.2.0",
            "_model_module": "@jupyter-widgets/controls"
          }
        },
        "deeb84bd17984cab830a05a75be63ac1": {
          "model_module": "@jupyter-widgets/base",
          "model_name": "LayoutModel",
          "state": {
            "_view_name": "LayoutView",
            "grid_template_rows": null,
            "right": null,
            "justify_content": null,
            "_view_module": "@jupyter-widgets/base",
            "overflow": null,
            "_model_module_version": "1.2.0",
            "_view_count": null,
            "flex_flow": null,
            "width": null,
            "min_width": null,
            "border": null,
            "align_items": null,
            "bottom": null,
            "_model_module": "@jupyter-widgets/base",
            "top": null,
            "grid_column": null,
            "overflow_y": null,
            "overflow_x": null,
            "grid_auto_flow": null,
            "grid_area": null,
            "grid_template_columns": null,
            "flex": null,
            "_model_name": "LayoutModel",
            "justify_items": null,
            "grid_row": null,
            "max_height": null,
            "align_content": null,
            "visibility": null,
            "align_self": null,
            "height": null,
            "min_height": null,
            "padding": null,
            "grid_auto_rows": null,
            "grid_gap": null,
            "max_width": null,
            "order": null,
            "_view_module_version": "1.2.0",
            "grid_template_areas": null,
            "object_position": null,
            "object_fit": null,
            "grid_auto_columns": null,
            "margin": null,
            "display": null,
            "left": null
          }
        }
      }
    }
  },
  "cells": [
    {
      "cell_type": "code",
      "metadata": {
        "id": "aZ987NSktMPV",
        "colab_type": "code",
        "colab": {
          "base_uri": "https://localhost:8080/",
          "height": 34
        },
        "outputId": "5400769d-de3d-4c47-b6de-49ffe7152423"
      },
      "source": [
        "from google.colab import drive\n",
        "drive.mount('/content/drive/')\n",
        "root = '/content/drive/My Drive/Colab Notebooks/dog-breed-recognition'"
      ],
      "execution_count": 1,
      "outputs": [
        {
          "output_type": "stream",
          "text": [
            "Mounted at /content/drive/\n"
          ],
          "name": "stdout"
        }
      ]
    },
    {
      "cell_type": "code",
      "metadata": {
        "id": "zFX4dbG1tWQ3",
        "colab_type": "code",
        "colab": {}
      },
      "source": [
        "import os\n",
        "import sys\n",
        "import tqdm\n",
        "import random\n",
        "import copy\n",
        "\n",
        "from PIL import Image\n",
        "import numpy as np\n",
        "import cv2\n",
        "import matplotlib.pyplot as plt"
      ],
      "execution_count": 3,
      "outputs": []
    },
    {
      "cell_type": "code",
      "metadata": {
        "id": "IBcK7avytojN",
        "colab_type": "code",
        "colab": {
          "base_uri": "https://localhost:8080/",
          "height": 34
        },
        "outputId": "0ad27e4f-6216-4428-f085-d2a309b1e6ac"
      },
      "source": [
        "import torch\n",
        "import torchvision\n",
        "from torchvision import transforms\n",
        "\n",
        "# Remember to activate GPU\n",
        "device = torch.device('cuda:0' if torch.cuda.is_available() else 'cpu')\n",
        "\n",
        "if torch.cuda.is_available():\n",
        "  torch.cuda.get_device_name(0)"
      ],
      "execution_count": 5,
      "outputs": [
        {
          "output_type": "execute_result",
          "data": {
            "application/vnd.google.colaboratory.intrinsic+json": {
              "type": "string"
            },
            "text/plain": [
              "'Tesla T4'"
            ]
          },
          "metadata": {
            "tags": []
          },
          "execution_count": 5
        }
      ]
    },
    {
      "cell_type": "code",
      "metadata": {
        "id": "2rYoxKB0tzBc",
        "colab_type": "code",
        "colab": {}
      },
      "source": [
        "def get_dataset_split_labels(dataset_path, split_ratio):\n",
        "  train_ratio, val_ratio, test_ratio = split_ratio\n",
        "\n",
        "  dataset_labels = { 'train': [], 'val': [], 'test': [] }\n",
        "\n",
        "  classes = sorted(os.listdir(dataset_path))\n",
        "  for i_class, curr_class in enumerate(classes):\n",
        "    class_path = os.path.join(dataset_path, curr_class)\n",
        "    instances = sorted(os.listdir(class_path))\n",
        "    n_instances = len(instances)\n",
        "\n",
        "    labels = [(i_class, label) for label in list(range(n_instances))]\n",
        "    random.shuffle(labels)\n",
        "\n",
        "    train_l = int(n_instances * train_ratio)\n",
        "    val_l = int(n_instances * val_ratio)\n",
        "    test_l = int(n_instances * test_ratio)\n",
        "\n",
        "    curr_train_labels = labels[:train_l]\n",
        "    curr_val_labels = labels[train_l:train_l + val_l]\n",
        "    curr_test_labels = labels[train_l + val_l:train_l + val_l + test_l]\n",
        "    \n",
        "    dataset_labels['train'] += curr_train_labels\n",
        "    dataset_labels['val'] += curr_val_labels\n",
        "    dataset_labels['test'] += curr_test_labels\n",
        "\n",
        "  return dataset_labels"
      ],
      "execution_count": 6,
      "outputs": []
    },
    {
      "cell_type": "code",
      "metadata": {
        "id": "K5n_VQ8bxKm7",
        "colab_type": "code",
        "colab": {}
      },
      "source": [
        "class ImageDataset(torch.utils.data.Dataset):\n",
        "  def __init__(self, dataset_path, labels, transform):\n",
        "    self.dataset_path = dataset_path\n",
        "    self.labels = labels\n",
        "    self.transform = transform\n",
        "\n",
        "    classes = sorted(os.listdir(self.dataset_path))\n",
        "    self.n_classes = len(classes)\n",
        "\n",
        "    self.classes_path = [os.path.join(self.dataset_path, c) for c in classes]\n",
        "    self.instances_path = [[os.path.join(class_path, instance)\n",
        "        for instance in sorted(os.listdir(class_path))]\n",
        "      for class_path in self.classes_path]\n",
        "\n",
        "  def __getitem__(self, index):\n",
        "    # anc = anchor, pos = positive, neg = negative\n",
        "    anc_class_index, anc_instance_index = self.labels[index]\n",
        "    \n",
        "    pos_class_index = anc_class_index\n",
        "    pos_instance_index = random.choice([instance_index\n",
        "        for instance_index in range(len(self.instances_path[pos_class_index]))\n",
        "        if instance_index != anc_instance_index])\n",
        "    \n",
        "    neg_class_index = random.choice([class_index\n",
        "        for class_index in range(len(self.classes_path))\n",
        "        if class_index != anc_class_index])\n",
        "    neg_instance_index = random.choice(\n",
        "        range(len(self.instances_path[neg_class_index])))\n",
        "    \n",
        "    anc_img_path = self.instances_path[anc_class_index][anc_instance_index]\n",
        "    pos_img_path = self.instances_path[pos_class_index][pos_instance_index]\n",
        "    neg_img_path = self.instances_path[neg_class_index][neg_instance_index]\n",
        "    \n",
        "    anc_img = Image.open(anc_img_path).convert('RGB')\n",
        "    pos_img = Image.open(pos_img_path).convert('RGB')\n",
        "    neg_img = Image.open(neg_img_path).convert('RGB')\n",
        "\n",
        "    anc_x = self.transform(anc_img)\n",
        "    pos_x = self.transform(pos_img)\n",
        "    neg_x = self.transform(neg_img)\n",
        "\n",
        "    return anc_x, pos_x, neg_x\n",
        "\n",
        "  def __len__(self):\n",
        "    return len(self.labels)"
      ],
      "execution_count": 7,
      "outputs": []
    },
    {
      "cell_type": "code",
      "metadata": {
        "id": "4hYQtkAy5uYR",
        "colab_type": "code",
        "colab": {}
      },
      "source": [
        "def embedder_model(n_embeddings):\n",
        "  x = torchvision.models.resnet50(pretrained=True)\n",
        "  x.fc = torch.nn.Sequential(\n",
        "      torch.nn.Linear(2048, n_embeddings),\n",
        "      torch.nn.Sigmoid())\n",
        "\n",
        "  return x"
      ],
      "execution_count": 8,
      "outputs": []
    },
    {
      "cell_type": "code",
      "metadata": {
        "id": "cE4tFKwO65rC",
        "colab_type": "code",
        "colab": {}
      },
      "source": [
        "def train(model, criterion, optimizer, scheduler, n_epochs):\n",
        "  best_weights = copy.deepcopy(model.state_dict())\n",
        "  best_acc = 0.0\n",
        "\n",
        "  for epoch in range(n_epochs):\n",
        "    for phase in ['train', 'val']:\n",
        "      if phase == 'train':\n",
        "        model.train()\n",
        "      else:\n",
        "        model.eval()\n",
        "\n",
        "      epoch_loss = 0.0\n",
        "      epoch_acc = 0.0\n",
        "      n_seen_samples = 0\n",
        "\n",
        "      dataloader = tqdm.tqdm(dataloaders[phase], total=len(dataloaders[phase]),\n",
        "          position=0, leave=True)\n",
        "      for anc_x, pos_x, neg_x in dataloader:\n",
        "        curr_batch_size = anc_x.shape[0]\n",
        "        n_seen_samples += curr_batch_size\n",
        "\n",
        "        optimizer.zero_grad()\n",
        "\n",
        "        anc_x = anc_x.to(device)\n",
        "        pos_x = pos_x.to(device)\n",
        "        neg_x = neg_x.to(device)\n",
        "\n",
        "        anc_y = model(anc_x)\n",
        "        pos_y = model(pos_x)\n",
        "        neg_y = model(neg_x)\n",
        "\n",
        "        loss = criterion(anc_y, pos_y, neg_y)\n",
        "\n",
        "        if phase == 'train':\n",
        "          loss.backward()\n",
        "          optimizer.step()\n",
        "\n",
        "        epoch_loss += loss.item() * curr_batch_size\n",
        "\n",
        "        anc_pos_dists = (anc_y - pos_y).pow(2).sum(1)\n",
        "        anc_neg_dists = (anc_y - neg_y).pow(2).sum(1)\n",
        "        epoch_acc += torch.sum(anc_pos_dists + 1 < anc_neg_dists).item()\n",
        "        \n",
        "        curr_loss = epoch_loss / n_seen_samples\n",
        "        curr_acc = epoch_acc / n_seen_samples\n",
        "\n",
        "        dataloader.set_postfix(Epoch='%s/%s' % (epoch+1, n_epochs),\n",
        "            Loss=curr_loss, Acc=curr_acc, refresh=True)\n",
        "        \n",
        "      if phase == 'train':\n",
        "        scheduler.step()\n",
        "      \n",
        "      epoch_loss /= len(datasets[phase])\n",
        "      epoch_acc /= len(datasets[phase])\n",
        "    \n",
        "      if phase == 'val' and epoch_acc > best_acc:\n",
        "        best_acc = epoch_acc\n",
        "        best_weights = copy.deepcopy(model.state_dict())\n",
        "  \n",
        "  model.load_state_dict(best_weights)\n",
        "\n",
        "  return model, best_acc"
      ],
      "execution_count": 9,
      "outputs": []
    },
    {
      "cell_type": "code",
      "metadata": {
        "id": "cOZog8QA1mOl",
        "colab_type": "code",
        "colab": {}
      },
      "source": [
        "def test(model):\n",
        "  model.eval()\n",
        "  acc = 0.0\n",
        "  n_seen_samples = 0\n",
        "\n",
        "  dataloader = tqdm.tqdm(dataloaders['test'], total=len(dataloaders['test']),\n",
        "      position=0, leave=True)\n",
        "  for anc_x, pos_x, neg_x in dataloader:\n",
        "    curr_batch_size = anc_x.shape[0]\n",
        "    n_seen_samples += curr_batch_size\n",
        "\n",
        "    optimizer.zero_grad()\n",
        "\n",
        "    anc_x = anc_x.to(device)\n",
        "    pos_x = pos_x.to(device)\n",
        "    neg_x = neg_x.to(device)\n",
        "\n",
        "    anc_y = model(anc_x)\n",
        "    pos_y = model(pos_x)\n",
        "    neg_y = model(neg_x)\n",
        "\n",
        "    anc_pos_dists = (anc_y - pos_y).pow(2).sum(1)\n",
        "    anc_neg_dists = (anc_y - neg_y).pow(2).sum(1)\n",
        "    acc += torch.sum(anc_pos_dists + 1 < anc_neg_dists).item()\n",
        "\n",
        "    curr_acc = acc / n_seen_samples\n",
        "\n",
        "    dataloader.set_postfix(Acc=curr_acc, refresh=True)\n",
        "\n",
        "  acc / len(datasets['test'])\n",
        "\n",
        "  return acc"
      ],
      "execution_count": 10,
      "outputs": []
    },
    {
      "cell_type": "code",
      "metadata": {
        "id": "mgcOVIY4zacj",
        "colab_type": "code",
        "colab": {}
      },
      "source": [
        "dataset_transforms = {\n",
        "    'train': transforms.Compose([\n",
        "        transforms.RandomResizedCrop(224),\n",
        "        transforms.RandomHorizontalFlip(),\n",
        "        transforms.ToTensor(),\n",
        "        transforms.Normalize([0.485, 0.456, 0.406], [0.229, 0.224, 0.225])]),\n",
        "    'val': transforms.Compose([\n",
        "        transforms.CenterCrop(224),\n",
        "        transforms.ToTensor(),\n",
        "        transforms.Normalize([0.485, 0.456, 0.406], [0.229, 0.224, 0.225])]),\n",
        "    'test': transforms.Compose([\n",
        "        transforms.Resize(256),\n",
        "        transforms.CenterCrop(224),\n",
        "        transforms.ToTensor(),\n",
        "        transforms.Normalize([0.485, 0.456, 0.406], [0.229, 0.224, 0.225])]) }"
      ],
      "execution_count": 11,
      "outputs": []
    },
    {
      "cell_type": "code",
      "metadata": {
        "id": "I7aQfMfLzbrU",
        "colab_type": "code",
        "colab": {
          "base_uri": "https://localhost:8080/",
          "height": 84,
          "referenced_widgets": [
            "8a2ff2fd73594adaa54aff3bf6ca2a08",
            "a04a8cfdfc364509af60ef8cce297ea6",
            "92e77841c0f041cb920c8c389c58096d",
            "a59eee01b605494b99edd8629e3ab5c4",
            "873348141eec4478b529266760a4e0da",
            "439e510fd6984b9d9a457e695ef7bdf5",
            "365c986d320244c38d8cc791eecbd469",
            "deeb84bd17984cab830a05a75be63ac1"
          ]
        },
        "outputId": "20e64d7c-f29e-400c-8533-a423c100d5c6"
      },
      "source": [
        "dataset_path = os.path.join(root, 'dogs', 'train')\n",
        "\n",
        "split_ratio = [0.7, 0.15, 0.15]\n",
        "\n",
        "dataset_labels = get_dataset_split_labels(dataset_path, split_ratio)\n",
        "\n",
        "datasets = {\n",
        "    'train': ImageDataset(dataset_path, dataset_labels['train'],\n",
        "        dataset_transforms['train']),\n",
        "    'val': ImageDataset(dataset_path, dataset_labels['val'],\n",
        "        dataset_transforms['val']),\n",
        "    'test': ImageDataset(dataset_path, dataset_labels['test'],\n",
        "        dataset_transforms['test']) }\n",
        "\n",
        "n_embeddings = 128\n",
        "\n",
        "n_epochs = 5\n",
        "\n",
        "batch_size = 8\n",
        "\n",
        "n_workers = 8\n",
        "\n",
        "model = embedder_model(n_embeddings)\n",
        "model = torch.jit.script(model).to(device)\n",
        "\n",
        "criterion = torch.nn.TripletMarginLoss()\n",
        "optimizer = torch.optim.SGD(model.parameters(), lr=0.001, momentum=0.9)\n",
        "scheduler = torch.optim.lr_scheduler.StepLR(optimizer, step_size=7, gamma=0.1)\n",
        "\n",
        "dataloaders = {\n",
        "    'train': torch.utils.data.DataLoader(datasets['train'],\n",
        "        batch_size=batch_size, num_workers=n_workers, shuffle=True),\n",
        "    'val': torch.utils.data.DataLoader(datasets['val'], batch_size=batch_size,\n",
        "        num_workers=n_workers, shuffle=True),\n",
        "    'test': torch.utils.data.DataLoader(datasets['test'], batch_size=batch_size,\n",
        "        num_workers=n_workers, shuffle=True) }\n",
        "\n",
        "trained_model_ckpt_path = os.path.join(root, 'models', 'embedder.pth')"
      ],
      "execution_count": 12,
      "outputs": [
        {
          "output_type": "stream",
          "text": [
            "Downloading: \"https://download.pytorch.org/models/resnet50-19c8e357.pth\" to /root/.cache/torch/hub/checkpoints/resnet50-19c8e357.pth\n"
          ],
          "name": "stderr"
        },
        {
          "output_type": "display_data",
          "data": {
            "application/vnd.jupyter.widget-view+json": {
              "model_id": "8a2ff2fd73594adaa54aff3bf6ca2a08",
              "version_minor": 0,
              "version_major": 2
            },
            "text/plain": [
              "HBox(children=(FloatProgress(value=0.0, max=102502400.0), HTML(value='')))"
            ]
          },
          "metadata": {
            "tags": []
          }
        },
        {
          "output_type": "stream",
          "text": [
            "\n"
          ],
          "name": "stdout"
        }
      ]
    },
    {
      "cell_type": "code",
      "metadata": {
        "id": "EXNqWGewA_LT",
        "colab_type": "code",
        "colab": {
          "base_uri": "https://localhost:8080/",
          "height": 190
        },
        "outputId": "a23f28eb-7031-4e96-c7e7-e4326a13379a"
      },
      "source": [
        "trained_model, val_acc = train(model, criterion, optimizer, scheduler, n_epochs)\n",
        "torch.save({\n",
        "    'state_dict': trained_model.state_dict(),\n",
        "    'acc': val_acc,\n",
        "    'n_embeddings': n_embeddings }, trained_model_ckpt_path)"
      ],
      "execution_count": 13,
      "outputs": [
        {
          "output_type": "stream",
          "text": [
            "100%|██████████| 1513/1513 [11:05<00:00,  2.27it/s, Acc=0.726, Epoch=1/5, Loss=0.383]\n",
            "100%|██████████| 319/319 [00:50<00:00,  6.32it/s, Acc=0.893, Epoch=1/5, Loss=0.197]\n",
            "100%|██████████| 1513/1513 [07:25<00:00,  3.40it/s, Acc=0.842, Epoch=2/5, Loss=0.291]\n",
            "100%|██████████| 319/319 [00:45<00:00,  6.98it/s, Acc=0.914, Epoch=2/5, Loss=0.176]\n",
            "100%|██████████| 1513/1513 [07:23<00:00,  3.41it/s, Acc=0.857, Epoch=3/5, Loss=0.279]\n",
            "100%|██████████| 319/319 [00:44<00:00,  7.11it/s, Acc=0.919, Epoch=3/5, Loss=0.163]\n",
            "100%|██████████| 1513/1513 [07:22<00:00,  3.42it/s, Acc=0.866, Epoch=4/5, Loss=0.26]\n",
            "100%|██████████| 319/319 [00:45<00:00,  7.06it/s, Acc=0.923, Epoch=4/5, Loss=0.157]\n",
            "100%|██████████| 1513/1513 [07:22<00:00,  3.42it/s, Acc=0.863, Epoch=5/5, Loss=0.267]\n",
            "100%|██████████| 319/319 [00:45<00:00,  7.09it/s, Acc=0.917, Epoch=5/5, Loss=0.167]\n"
          ],
          "name": "stderr"
        }
      ]
    },
    {
      "cell_type": "code",
      "metadata": {
        "id": "6birUOlDAZEO",
        "colab_type": "code",
        "colab": {
          "base_uri": "https://localhost:8080/",
          "height": 34
        },
        "outputId": "0461179b-08d5-4080-f065-57b5d31a25af"
      },
      "source": [
        "trained_model = embedder_model(n_embeddings)\n",
        "trained_model.load_state_dict(torch.load(trained_model_ckpt_path)['state_dict'])\n",
        "trained_model.eval()\n",
        "trained_model = torch.jit.script(trained_model).to(device)\n",
        "\n",
        "test_acc = test(trained_model)"
      ],
      "execution_count": 14,
      "outputs": [
        {
          "output_type": "stream",
          "text": [
            "100%|██████████| 319/319 [00:58<00:00,  5.48it/s, Acc=0.944]\n"
          ],
          "name": "stderr"
        }
      ]
    }
  ]
}